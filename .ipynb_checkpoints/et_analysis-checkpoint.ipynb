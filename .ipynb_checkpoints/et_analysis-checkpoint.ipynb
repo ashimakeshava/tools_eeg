{
 "cells": [
  {
   "cell_type": "markdown",
   "id": "73e327d6",
   "metadata": {},
   "source": [
    "# Create ET and EEG datasets from .xdf files\n"
   ]
  },
  {
   "cell_type": "code",
   "execution_count": 1,
   "id": "16b848cc",
   "metadata": {
    "ExecuteTime": {
     "end_time": "2024-03-03T13:07:23.357972Z",
     "start_time": "2024-03-03T13:07:23.320073Z"
    }
   },
   "outputs": [
    {
     "data": {
      "text/html": [
       "<style>.container { width:80% !important; }</style>"
      ],
      "text/plain": [
       "<IPython.core.display.HTML object>"
      ]
     },
     "metadata": {},
     "output_type": "display_data"
    }
   ],
   "source": [
    "from IPython.display import display, HTML\n",
    "display(HTML(\"<style>.container { width:80% !important; }</style>\"))"
   ]
  },
  {
   "cell_type": "code",
   "execution_count": 21,
   "id": "5be2bd78",
   "metadata": {
    "ExecuteTime": {
     "end_time": "2024-03-03T13:18:34.679114Z",
     "start_time": "2024-03-03T13:18:34.649200Z"
    }
   },
   "outputs": [],
   "source": [
    "import itertools\n",
    "import numpy as np\n",
    "import os\n",
    "import pyxdf\n",
    "import seaborn as sns\n",
    "import matplotlib.pyplot as plt\n",
    "import pandas as pd\n",
    "import mne\n",
    "import json\n",
    "import glob\n",
    "import re\n",
    "from scipy import signal\n",
    "import importlib\n",
    "import multiprocessing as mp\n",
    "import sys\n",
    "from utils.read_data import *\n",
    "\n",
    "#from mne.preprocessing import ASR\n"
   ]
  },
  {
   "cell_type": "code",
   "execution_count": 10,
   "id": "cbcbdb67",
   "metadata": {},
   "outputs": [],
   "source": [
    "!pip install git+https://github.com/DiGyt/mne-python.git@asr -q\n"
   ]
  },
  {
   "cell_type": "code",
   "execution_count": null,
   "id": "3341c833",
   "metadata": {
    "ExecuteTime": {
     "end_time": "2024-03-03T13:07:37.830332Z",
     "start_time": "2024-03-03T13:07:37.830332Z"
    }
   },
   "outputs": [],
   "source": [
    "\"\"\"\n",
    "Get the EEG data from xdf file. \n",
    "The xdf contains both the EEG and the eye tracking data.\n",
    "Read xdf and extract just the EEG\n",
    "\"\"\"\n",
    "DATA_PATH = './raw_data/'#f\"../data/pilot_data/{SUBJECT_ID}\"\n",
    "PROCESSED_PATH = './processed_data/'\n",
    "#DATA_FILE = './P002\\\\sub-P001_ses-S001_task-Default_run-001_eeg (4).xdf'#f\"{SUBJECT_ID}_block_{BLOCK_NUM}.xdf\"\n",
    "montagefile = \"ANT_EEG_channel_mapping.json\""
   ]
  },
  {
   "cell_type": "code",
   "execution_count": 5,
   "id": "ea9766e3",
   "metadata": {},
   "outputs": [
    {
     "name": "stdout",
     "output_type": "stream",
     "text": [
      "Stream ID:0 \n",
      " Stream Name: ['TrialStopMeasurementTimeStamp']\n",
      " Stream Fields: dict_keys(['TrialStopMeasurementTimeStamp'])\n",
      " Stream Time: (0,)\n",
      "\n",
      "\n",
      "Stream ID:1 \n",
      " Stream Name: ['CueTimeStamp']\n",
      " Stream Fields: dict_keys(['CueTimeStamp'])\n",
      " Stream Time: (48,)\n",
      "\n",
      "\n",
      "Stream ID:2 \n",
      " Stream Name: ['TrialStartMeasurementTimeStamp']\n",
      " Stream Fields: dict_keys(['TrialStartMeasurementTimeStamp'])\n",
      " Stream Time: (48,)\n",
      "\n",
      "\n",
      "Stream ID:3 \n",
      " Stream Name: ['CueDisappearedTimeStamp']\n",
      " Stream Fields: dict_keys(['CueDisappearedTimeStamp'])\n",
      " Stream Time: (48,)\n",
      "\n",
      "\n",
      "Stream ID:4 \n",
      " Stream Name: ['ValidationResults']\n",
      " Stream Fields: dict_keys(['xError', 'yError', 'zError'])\n",
      " Stream Time: (6,)\n",
      "\n",
      "\n",
      "Stream ID:5 \n",
      " Stream Name: ['openvibeMarkers']\n",
      " Stream Fields: dict_keys(['channels'])\n",
      " Stream Time: (0,)\n",
      "\n",
      "\n",
      "Stream ID:6 \n",
      " Stream Name: ['openvibeSignal']\n",
      " Stream Fields: dict_keys(['channels'])\n",
      " Stream Time: (1263072,)\n",
      "\n",
      "\n",
      "Stream ID:7 \n",
      " Stream Name: ['ButtonPressedTimeStamp']\n",
      " Stream Fields: dict_keys(['ButtonPressedTimeStamp'])\n",
      " Stream Time: (48,)\n",
      "\n",
      "\n",
      "Stream ID:8 \n",
      " Stream Name: ['TrialInformationInt']\n",
      " Stream Fields: dict_keys(['TrialNumber', 'ToolId', 'Task', 'Orientation'])\n",
      " Stream Time: (48,)\n",
      "\n",
      "\n",
      "Stream ID:9 \n",
      " Stream Name: ['EyetrackingTimeStamp']\n",
      " Stream Fields: dict_keys(['CurrentFrameTimeStamp'])\n",
      " Stream Time: (87111,)\n",
      "\n",
      "\n",
      "Stream ID:10 \n",
      " Stream Name: ['ObjectShownTimeStamp']\n",
      " Stream Fields: dict_keys(['ObjectShownTimeStamp'])\n",
      " Stream Time: (48,)\n",
      "\n",
      "\n",
      "Stream ID:11 \n",
      " Stream Name: ['EyeTrackingGazeHMDFloat']\n",
      " Stream Fields: dict_keys(['hmdPos.x', 'hmdPos.y', 'hmdPos.z', 'hmdRotation.x', 'hmdRotation.y', 'hmdRotation.z', 'hmdDirectionForward.x', 'hmdDirectionForward.y', 'hmdDirectionForward.z', 'controllerPosition.x', 'controllerPosition.y', 'controllerPosition.z', 'controllerRotation.x', 'controllerRotation.y', 'controllerRotation.z', 'CombinedValidityBitMask', 'eyePositionCombinedWorld.x', 'eyePositionCombinedWorld.y', 'eyePositionCombinedWorld.z', 'eyeDirectionCombinedWorld.x', 'eyeDirectionCombinedWorld.y', 'eyeDirectionCombinedWorld.z', 'eyePositionCombinedLocal.x', 'eyePositionCombinedLocal.y', 'eyePositionCombinedLocal.z', 'eyeDirectionCombinedLocal.x', 'eyeDirectionCombinedLocal.y', 'eyeDirectionCombinedLocal.z', 'LeftValidityBitMask', 'eyeOpennessLeft', 'eyePositionLeftWorld.x', 'eyePositionLeftWorld.y', 'eyePositionLeftWorld.z', 'eyeDirectionLeftWorld.x', 'eyeDirectionLeftWorld.y', 'eyeDirectionLeftWorld.z', 'eyePositionLeftLocal.x', 'eyePositionLeftLocal.y', 'eyePositionLeftLocal.z', 'eyeDirectionLeftLocal.x', 'eyeDirectionLeftLocal.y', 'eyeDirectionLeftLocal.z', 'RightValidityBitMask', 'eyeOpennessRight', 'eyePositionRightWorld.x', 'eyePositionRightWorld.y', 'eyePositionRightWorld.z', 'eyeDirectionRightWorld.x', 'eyeDirectionRightWorld.y', 'eyeDirectionRightWorld.z', 'eyePositionRightLocal.x', 'eyePositionRightLocal.y', 'eyePositionRightLocal.z', 'eyeDirectionRightLocal.x', 'eyeDirectionRightLocal.y', 'eyeDirectionRightLocal.z', 'taskObjectPosition.x', 'taskObjectPosition.y', 'taskObjectPosition.z', 'taskObjectRotation.x', 'taskObjectRotation.y', 'taskObjectRotation.z', 'taskObjectIsInHand', 'taskObjectWasHit', 'targetHitPositionX', 'targetHitPositionY', 'targetHitPositionZ', 'targetPositionX', 'targetPositionY', 'targetPositionZ'])\n",
      " Stream Time: (87111,)\n",
      "\n",
      "\n",
      "Stream ID:12 \n",
      " Stream Name: ['ValidationResultTimeStamp']\n",
      " Stream Fields: dict_keys(['ValidationResultTimeStamp'])\n",
      " Stream Time: (6,)\n",
      "\n",
      "\n",
      "Stream ID:13 \n",
      " Stream Name: ['BaseLineBeginTimeStamp']\n",
      " Stream Fields: dict_keys(['BaseLineBeginTimeStamp'])\n",
      " Stream Time: (1,)\n",
      "\n",
      "\n",
      "Stream ID:14 \n",
      " Stream Name: ['BaseLineEndTimeStamp']\n",
      " Stream Fields: dict_keys(['BaseLineEndTimeStamp'])\n",
      " Stream Time: (1,)\n",
      "\n",
      "\n",
      "Stream ID:15 \n",
      " Stream Name: ['BeepPlayedTimeStamp']\n",
      " Stream Fields: dict_keys(['BeepPlayedTimeStamp'])\n",
      " Stream Time: (48,)\n",
      "\n",
      "\n"
     ]
    },
    {
     "data": {
      "text/plain": [
       "[None,\n",
       " None,\n",
       " None,\n",
       " None,\n",
       " None,\n",
       " None,\n",
       " None,\n",
       " None,\n",
       " None,\n",
       " None,\n",
       " None,\n",
       " None,\n",
       " None,\n",
       " None,\n",
       " None,\n",
       " None]"
      ]
     },
     "execution_count": 5,
     "metadata": {},
     "output_type": "execute_result"
    }
   ],
   "source": [
    "\"\"\"\n",
    "Get the EEG data from xdf file. \n",
    "The xdf contains both the EEG and the eye tracking data.\n",
    "Read xdf and extract just the EEG\n",
    "\"\"\"\n",
    "DATA_PATH = './raw_data/M006'\n",
    "DATA_FILE = \"M006_1.xdf\"\n",
    "\n",
    "# Read Data from xdf\n",
    "data, header = pyxdf.load_xdf(os.path.join(DATA_PATH,DATA_FILE))\n",
    "\n",
    "[\n",
    "    print(\n",
    "        f\"Stream ID:{idx} \\n\", \n",
    "        f\"Stream Name: {stream['info']['name']}\\n\", \n",
    "        f\"Stream Fields: {stream['info']['desc'][0].keys()}\\n\",\n",
    "        f\"Stream Time: {stream['time_stamps'].shape}\\n\\n\"\n",
    "    ) \n",
    "    for idx, stream in enumerate(data)\n",
    "]"
   ]
  },
  {
   "cell_type": "markdown",
   "id": "f9b25de3",
   "metadata": {},
   "source": [
    "## Read config file"
   ]
  },
  {
   "cell_type": "code",
   "execution_count": 7,
   "id": "930ae29c",
   "metadata": {},
   "outputs": [],
   "source": [
    "config_file = './raw_data/M006/config/gti_config_1659100699.88688.json'"
   ]
  },
  {
   "cell_type": "code",
   "execution_count": 8,
   "id": "2e80b5e3",
   "metadata": {
    "ExecuteTime": {
     "end_time": "2024-03-03T13:08:48.985925Z",
     "start_time": "2024-03-03T13:08:48.974602Z"
    }
   },
   "outputs": [],
   "source": [
    "\n",
    "with open('./discarded_data/P002\\\\gti_config_1652438777.83905.json', 'r') as f:\n",
    "    config_json = json.loads(f.read())"
   ]
  },
  {
   "cell_type": "code",
   "execution_count": 13,
   "id": "7edcbba2",
   "metadata": {
    "ExecuteTime": {
     "end_time": "2024-03-03T13:11:19.987647Z",
     "start_time": "2024-03-03T13:11:19.939775Z"
    }
   },
   "outputs": [
    {
     "data": {
      "text/html": [
       "<div>\n",
       "<style scoped>\n",
       "    .dataframe tbody tr th:only-of-type {\n",
       "        vertical-align: middle;\n",
       "    }\n",
       "\n",
       "    .dataframe tbody tr th {\n",
       "        vertical-align: top;\n",
       "    }\n",
       "\n",
       "    .dataframe thead th {\n",
       "        text-align: right;\n",
       "    }\n",
       "</style>\n",
       "<table border=\"1\" class=\"dataframe\">\n",
       "  <thead>\n",
       "    <tr style=\"text-align: right;\">\n",
       "      <th></th>\n",
       "      <th>tool_name</th>\n",
       "      <th>tool_pos_x</th>\n",
       "      <th>tool_pos_y</th>\n",
       "      <th>tool_pos_z</th>\n",
       "    </tr>\n",
       "  </thead>\n",
       "  <tbody>\n",
       "    <tr>\n",
       "      <th>0</th>\n",
       "      <td>practicehammer</td>\n",
       "      <td>0.208975</td>\n",
       "      <td>0.049109</td>\n",
       "      <td>0.398685</td>\n",
       "    </tr>\n",
       "    <tr>\n",
       "      <th>1</th>\n",
       "      <td>flowercutter</td>\n",
       "      <td>0.051337</td>\n",
       "      <td>0.034490</td>\n",
       "      <td>0.465000</td>\n",
       "    </tr>\n",
       "    <tr>\n",
       "      <th>2</th>\n",
       "      <td>fishscaler</td>\n",
       "      <td>0.111392</td>\n",
       "      <td>0.027690</td>\n",
       "      <td>0.500855</td>\n",
       "    </tr>\n",
       "    <tr>\n",
       "      <th>3</th>\n",
       "      <td>paintbrush</td>\n",
       "      <td>0.083830</td>\n",
       "      <td>0.023186</td>\n",
       "      <td>0.319111</td>\n",
       "    </tr>\n",
       "    <tr>\n",
       "      <th>4</th>\n",
       "      <td>paletteknife</td>\n",
       "      <td>0.082688</td>\n",
       "      <td>0.041789</td>\n",
       "      <td>0.460310</td>\n",
       "    </tr>\n",
       "    <tr>\n",
       "      <th>5</th>\n",
       "      <td>screwdriver</td>\n",
       "      <td>0.075933</td>\n",
       "      <td>0.075910</td>\n",
       "      <td>0.500602</td>\n",
       "    </tr>\n",
       "    <tr>\n",
       "      <th>6</th>\n",
       "      <td>trowel</td>\n",
       "      <td>0.133451</td>\n",
       "      <td>0.060288</td>\n",
       "      <td>0.593202</td>\n",
       "    </tr>\n",
       "    <tr>\n",
       "      <th>7</th>\n",
       "      <td>daisygrubber</td>\n",
       "      <td>0.102008</td>\n",
       "      <td>0.093502</td>\n",
       "      <td>0.638365</td>\n",
       "    </tr>\n",
       "    <tr>\n",
       "      <th>8</th>\n",
       "      <td>wrench</td>\n",
       "      <td>0.095500</td>\n",
       "      <td>0.026071</td>\n",
       "      <td>0.394331</td>\n",
       "    </tr>\n",
       "    <tr>\n",
       "      <th>9</th>\n",
       "      <td>zester</td>\n",
       "      <td>0.061505</td>\n",
       "      <td>0.045747</td>\n",
       "      <td>0.393622</td>\n",
       "    </tr>\n",
       "    <tr>\n",
       "      <th>10</th>\n",
       "      <td>fork</td>\n",
       "      <td>0.062515</td>\n",
       "      <td>0.033439</td>\n",
       "      <td>0.432211</td>\n",
       "    </tr>\n",
       "    <tr>\n",
       "      <th>11</th>\n",
       "      <td>spokewrench</td>\n",
       "      <td>0.118778</td>\n",
       "      <td>0.118778</td>\n",
       "      <td>0.366098</td>\n",
       "    </tr>\n",
       "    <tr>\n",
       "      <th>12</th>\n",
       "      <td>spatula</td>\n",
       "      <td>0.147042</td>\n",
       "      <td>0.040368</td>\n",
       "      <td>0.583232</td>\n",
       "    </tr>\n",
       "  </tbody>\n",
       "</table>\n",
       "</div>"
      ],
      "text/plain": [
       "         tool_name  tool_pos_x  tool_pos_y  tool_pos_z\n",
       "0   practicehammer    0.208975    0.049109    0.398685\n",
       "1     flowercutter    0.051337    0.034490    0.465000\n",
       "2       fishscaler    0.111392    0.027690    0.500855\n",
       "3       paintbrush    0.083830    0.023186    0.319111\n",
       "4     paletteknife    0.082688    0.041789    0.460310\n",
       "5      screwdriver    0.075933    0.075910    0.500602\n",
       "6           trowel    0.133451    0.060288    0.593202\n",
       "7     daisygrubber    0.102008    0.093502    0.638365\n",
       "8           wrench    0.095500    0.026071    0.394331\n",
       "9           zester    0.061505    0.045747    0.393622\n",
       "10            fork    0.062515    0.033439    0.432211\n",
       "11     spokewrench    0.118778    0.118778    0.366098\n",
       "12         spatula    0.147042    0.040368    0.583232"
      ]
     },
     "execution_count": 13,
     "metadata": {},
     "output_type": "execute_result"
    }
   ],
   "source": [
    "dict_tools = {}\n",
    "dict_tools['tools'] = config_json['MappedTool']\n",
    "dict_tools['extends'] = config_json['ToolColliderExtends']\n",
    "\n",
    "tool_info = pd.DataFrame.from_dict(dict_tools)\n",
    "tool_info[['tool_pos_x','tool_pos_y', 'tool_pos_z']] = tool_info['extends'].apply(pd.Series)\n",
    "tool_info.drop(columns=['extends'], inplace=True)\n",
    "tool_info.rename(columns = {'tools':'tool_name'}, inplace=True)\n",
    "tool_info['tool_name'] = tool_info.tool_name.str.lower()\n",
    "tool_info"
   ]
  },
  {
   "cell_type": "markdown",
   "id": "24c5b2e7",
   "metadata": {},
   "source": [
    "## Read XDF files"
   ]
  },
  {
   "cell_type": "code",
   "execution_count": 14,
   "id": "92af35d7",
   "metadata": {
    "ExecuteTime": {
     "end_time": "2024-03-03T13:11:28.176230Z",
     "start_time": "2024-03-03T13:11:28.159278Z"
    }
   },
   "outputs": [],
   "source": [
    "TRIGGERS = [\n",
    "    'BaseLineBeginTimeStamp',\n",
    "    'BaseLineEndTimeStamp',\n",
    "    'CueTimeStamp',\n",
    "    'CueDisappearedTimeStamp',\n",
    "    'ObjectShownTimeStamp',\n",
    "    'BeepPlayedTimeStamp',\n",
    "    'ButtonPressedTimeStamp'\n",
    "]\n",
    "\n",
    "TRIAL_INFO = 'TrialInformationInt'\n",
    "\n",
    "EEG_SIGNAL = 'openvibeSignal'\n",
    "\n",
    "ET_SIGNAL = 'EyeTrackingGazeHMDFloat'\n",
    "\n",
    "STIMULUS = ['ToolCueOrientationString', 'ToolCueOrientationInt']\n",
    "\n",
    "TOOLS = ['daisygrubber', 'fishscaler', 'flowercutter', 'fork', 'paintbrush',\n",
    "       'paletteknife', 'screwdriver', 'spatula', 'spokewrench', 'trowel',\n",
    "       'wrench', 'zester']\n",
    "\n",
    "FAMILIAR = ['fork','trowel','screwdriver','spatula','paintbrush','wrench']\n",
    "\n",
    "tool_fam_map = {t:('fam' if t in FAMILIAR else 'unfam') for t in TOOLS}\n",
    "\n",
    "EVENT_MAPPING = {'task': 1,\n",
    "                 'inter-task-object': 2,\n",
    "                 'object': 3,\n",
    "                 'action': 4,\n",
    "                 'inter-trial':5 }"
   ]
  },
  {
   "cell_type": "code",
   "execution_count": 15,
   "id": "9e5cc004",
   "metadata": {
    "ExecuteTime": {
     "end_time": "2024-03-03T13:11:39.214598Z",
     "start_time": "2024-03-03T13:11:39.188289Z"
    }
   },
   "outputs": [],
   "source": [
    "def get_streams(data):\n",
    "    streams = {} \n",
    "    \n",
    "    if len(data) == 0:\n",
    "        print('No data in stream')\n",
    "        return 0\n",
    "    for i in range(len(data)):\n",
    "        if data[i][\"info\"]['name'][0] == EEG_SIGNAL:\n",
    "            streams['eeg'] = int(i)\n",
    "            \n",
    "        elif data[i][\"info\"]['name'][0] == ET_SIGNAL:\n",
    "            streams['et'] = int(i)\n",
    "            \n",
    "        elif data[i][\"info\"]['name'][0] in TRIAL_INFO:\n",
    "            streams[data[i][\"info\"]['name'][0]] = int(i)\n",
    "            \n",
    "        elif data[i][\"info\"]['name'][0] in TRIGGERS:\n",
    "            streams[data[i][\"info\"]['name'][0]] = int(i)\n",
    "            \n",
    "        else:\n",
    "            continue\n",
    "\n",
    "    return streams"
   ]
  },
  {
   "cell_type": "code",
   "execution_count": 17,
   "id": "08d6856a",
   "metadata": {
    "ExecuteTime": {
     "end_time": "2024-03-03T13:12:57.768434Z",
     "start_time": "2024-03-03T13:12:57.719569Z"
    }
   },
   "outputs": [
    {
     "ename": "TypeError",
     "evalue": "the 'package' argument is required to perform a relative import for './utils/read_data.py'",
     "output_type": "error",
     "traceback": [
      "\u001b[1;31m---------------------------------------------------------------------------\u001b[0m",
      "\u001b[1;31mTypeError\u001b[0m                                 Traceback (most recent call last)",
      "\u001b[1;32m~\\AppData\\Local\\Temp/ipykernel_12316/2617515102.py\u001b[0m in \u001b[0;36m<module>\u001b[1;34m\u001b[0m\n\u001b[1;32m----> 1\u001b[1;33m \u001b[0mimportlib\u001b[0m\u001b[1;33m.\u001b[0m\u001b[0mimport_module\u001b[0m\u001b[1;33m(\u001b[0m\u001b[1;34m'./utils/read_data.py'\u001b[0m\u001b[1;33m)\u001b[0m\u001b[1;33m\u001b[0m\u001b[1;33m\u001b[0m\u001b[0m\n\u001b[0m",
      "\u001b[1;32m~\\.conda\\envs\\conda_gti_eeg\\lib\\importlib\\__init__.py\u001b[0m in \u001b[0;36mimport_module\u001b[1;34m(name, package)\u001b[0m\n\u001b[0;32m    120\u001b[0m             msg = (\"the 'package' argument is required to perform a relative \"\n\u001b[0;32m    121\u001b[0m                    \"import for {!r}\")\n\u001b[1;32m--> 122\u001b[1;33m             \u001b[1;32mraise\u001b[0m \u001b[0mTypeError\u001b[0m\u001b[1;33m(\u001b[0m\u001b[0mmsg\u001b[0m\u001b[1;33m.\u001b[0m\u001b[0mformat\u001b[0m\u001b[1;33m(\u001b[0m\u001b[0mname\u001b[0m\u001b[1;33m)\u001b[0m\u001b[1;33m)\u001b[0m\u001b[1;33m\u001b[0m\u001b[1;33m\u001b[0m\u001b[0m\n\u001b[0m\u001b[0;32m    123\u001b[0m         \u001b[1;32mfor\u001b[0m \u001b[0mcharacter\u001b[0m \u001b[1;32min\u001b[0m \u001b[0mname\u001b[0m\u001b[1;33m:\u001b[0m\u001b[1;33m\u001b[0m\u001b[1;33m\u001b[0m\u001b[0m\n\u001b[0;32m    124\u001b[0m             \u001b[1;32mif\u001b[0m \u001b[0mcharacter\u001b[0m \u001b[1;33m!=\u001b[0m \u001b[1;34m'.'\u001b[0m\u001b[1;33m:\u001b[0m\u001b[1;33m\u001b[0m\u001b[1;33m\u001b[0m\u001b[0m\n",
      "\u001b[1;31mTypeError\u001b[0m: the 'package' argument is required to perform a relative import for './utils/read_data.py'"
     ]
    }
   ],
   "source": [
    "importlib.import_module('./utils/read_data.py')"
   ]
  },
  {
   "cell_type": "code",
   "execution_count": null,
   "id": "f59f7fa9",
   "metadata": {
    "ExecuteTime": {
     "start_time": "2024-03-03T13:24:25.281Z"
    },
    "scrolled": false
   },
   "outputs": [],
   "source": [
    "from utils.read_data import *\n",
    "from functools import partial\n",
    "\n",
    "# Read Data from xdf\n",
    "stream_df = pd.DataFrame()\n",
    "et_samples_df = pd.DataFrame()\n",
    "\n",
    "\n",
    "TASK_DICT = {0:'use', 1:'lift'}\n",
    "ORI_DICT = {0:'right', 1:'left'}\n",
    "FAM_DICT = {\n",
    "    'daisygrubber':'unfam', 'fishscaler':'unfam', 'flowercutter':'unfam', \n",
    "    'zester':'unfam', 'spokewrench':'unfam', 'paletteknife':'unfam',\n",
    "    'fork':'fam', 'paintbrush':'fam', 'screwdriver':'fam', \n",
    "    'spatula':'fam', 'trowel':'fam', 'wrench':'fam', \n",
    "}\n",
    "\n",
    "# for f in glob.glob(os.path.join(\"./raw_data/M0*\",\"*.xdf\")):\n",
    "with mp.Pool(mp.cpu_count() - 1) as p:\n",
    "    retlist = p.map(\n",
    "                partial(\n",
    "                    read_et_df,\n",
    "                    tool_dict=tool_info, \n",
    "                    fam_dict=FAM_DICT, \n",
    "                    task_dict=TASK_DICT, \n",
    "                    ori_dict=ORI_DICT,\n",
    "                ),\n",
    "                glob.glob(os.path.join(\"./raw_data/M0*\",\"*.xdf\"))\n",
    "            )\n",
    "    \n",
    "#     print(retlist)\n",
    "    \n",
    "    et_samples_df = pd.concat([et_samples_df, retlist], ignore_index=True)\n",
    "\n",
    "display(stream_df)\n",
    "display(et_samples_df)"
   ]
  },
  {
   "cell_type": "markdown",
   "id": "f1471cd7",
   "metadata": {},
   "source": [
    "## Create ET DATA"
   ]
  },
  {
   "cell_type": "code",
   "execution_count": 5,
   "id": "ac343bfb",
   "metadata": {},
   "outputs": [
    {
     "ename": "NameError",
     "evalue": "name 'tool_info' is not defined",
     "output_type": "error",
     "traceback": [
      "\u001b[1;31m---------------------------------------------------------------------------\u001b[0m",
      "\u001b[1;31mNameError\u001b[0m                                 Traceback (most recent call last)",
      "\u001b[1;32m~\\AppData\\Local\\Temp/ipykernel_15220/3388345862.py\u001b[0m in \u001b[0;36m<module>\u001b[1;34m\u001b[0m\n\u001b[1;32m----> 1\u001b[1;33m \u001b[0mtool_info\u001b[0m \u001b[1;33m=\u001b[0m \u001b[0mtool_info\u001b[0m\u001b[1;33m.\u001b[0m\u001b[0mreset_index\u001b[0m\u001b[1;33m(\u001b[0m\u001b[1;33m)\u001b[0m\u001b[1;33m\u001b[0m\u001b[1;33m\u001b[0m\u001b[0m\n\u001b[0m\u001b[0;32m      2\u001b[0m \u001b[0mtool_info\u001b[0m \u001b[1;33m=\u001b[0m \u001b[0mtool_info\u001b[0m\u001b[1;33m.\u001b[0m\u001b[0mrename\u001b[0m\u001b[1;33m(\u001b[0m\u001b[0mcolumns\u001b[0m\u001b[1;33m=\u001b[0m\u001b[1;33m{\u001b[0m\u001b[1;34m'index'\u001b[0m\u001b[1;33m:\u001b[0m\u001b[1;34m'tool_id'\u001b[0m\u001b[1;33m,\u001b[0m \u001b[1;34m'x'\u001b[0m\u001b[1;33m:\u001b[0m\u001b[1;34m'tool_x'\u001b[0m\u001b[1;33m,\u001b[0m \u001b[1;34m'y'\u001b[0m\u001b[1;33m:\u001b[0m\u001b[1;34m'tool_y'\u001b[0m\u001b[1;33m,\u001b[0m \u001b[1;34m'z'\u001b[0m\u001b[1;33m:\u001b[0m\u001b[1;34m'tool_z'\u001b[0m\u001b[1;33m}\u001b[0m\u001b[1;33m)\u001b[0m\u001b[1;33m\u001b[0m\u001b[1;33m\u001b[0m\u001b[0m\n",
      "\u001b[1;31mNameError\u001b[0m: name 'tool_info' is not defined"
     ]
    }
   ],
   "source": [
    "tool_info = tool_info.reset_index()\n",
    "tool_info = tool_info.rename(columns={'index':'tool_id', 'x':'tool_x', 'y':'tool_y', 'z':'tool_z'})"
   ]
  },
  {
   "cell_type": "code",
   "execution_count": 13,
   "id": "2d642d25",
   "metadata": {
    "scrolled": false
   },
   "outputs": [
    {
     "data": {
      "text/html": [
       "<div>\n",
       "<style scoped>\n",
       "    .dataframe tbody tr th:only-of-type {\n",
       "        vertical-align: middle;\n",
       "    }\n",
       "\n",
       "    .dataframe tbody tr th {\n",
       "        vertical-align: top;\n",
       "    }\n",
       "\n",
       "    .dataframe thead th {\n",
       "        text-align: right;\n",
       "    }\n",
       "</style>\n",
       "<table border=\"1\" class=\"dataframe\">\n",
       "  <thead>\n",
       "    <tr style=\"text-align: right;\">\n",
       "      <th></th>\n",
       "      <th>tool_id</th>\n",
       "      <th>tools</th>\n",
       "      <th>tool_x</th>\n",
       "      <th>tool_y</th>\n",
       "      <th>tool_z</th>\n",
       "    </tr>\n",
       "  </thead>\n",
       "  <tbody>\n",
       "    <tr>\n",
       "      <th>0</th>\n",
       "      <td>0</td>\n",
       "      <td>PracticeHammer</td>\n",
       "      <td>0.208975</td>\n",
       "      <td>0.049109</td>\n",
       "      <td>0.398685</td>\n",
       "    </tr>\n",
       "    <tr>\n",
       "      <th>1</th>\n",
       "      <td>1</td>\n",
       "      <td>Flowercutter</td>\n",
       "      <td>0.051337</td>\n",
       "      <td>0.034490</td>\n",
       "      <td>0.465000</td>\n",
       "    </tr>\n",
       "    <tr>\n",
       "      <th>2</th>\n",
       "      <td>2</td>\n",
       "      <td>Fishscaler</td>\n",
       "      <td>0.111392</td>\n",
       "      <td>0.027690</td>\n",
       "      <td>0.500855</td>\n",
       "    </tr>\n",
       "    <tr>\n",
       "      <th>3</th>\n",
       "      <td>3</td>\n",
       "      <td>Paintbrush</td>\n",
       "      <td>0.083830</td>\n",
       "      <td>0.023186</td>\n",
       "      <td>0.319111</td>\n",
       "    </tr>\n",
       "    <tr>\n",
       "      <th>4</th>\n",
       "      <td>4</td>\n",
       "      <td>Paletteknife</td>\n",
       "      <td>0.082688</td>\n",
       "      <td>0.041789</td>\n",
       "      <td>0.460310</td>\n",
       "    </tr>\n",
       "    <tr>\n",
       "      <th>5</th>\n",
       "      <td>5</td>\n",
       "      <td>Screwdriver</td>\n",
       "      <td>0.075933</td>\n",
       "      <td>0.075910</td>\n",
       "      <td>0.500602</td>\n",
       "    </tr>\n",
       "    <tr>\n",
       "      <th>6</th>\n",
       "      <td>6</td>\n",
       "      <td>Trowel</td>\n",
       "      <td>0.133451</td>\n",
       "      <td>0.060288</td>\n",
       "      <td>0.593202</td>\n",
       "    </tr>\n",
       "    <tr>\n",
       "      <th>7</th>\n",
       "      <td>7</td>\n",
       "      <td>Daisygrubber</td>\n",
       "      <td>0.102008</td>\n",
       "      <td>0.093502</td>\n",
       "      <td>0.638365</td>\n",
       "    </tr>\n",
       "    <tr>\n",
       "      <th>8</th>\n",
       "      <td>8</td>\n",
       "      <td>Wrench</td>\n",
       "      <td>0.095500</td>\n",
       "      <td>0.026071</td>\n",
       "      <td>0.394331</td>\n",
       "    </tr>\n",
       "    <tr>\n",
       "      <th>9</th>\n",
       "      <td>9</td>\n",
       "      <td>Zester</td>\n",
       "      <td>0.061505</td>\n",
       "      <td>0.045747</td>\n",
       "      <td>0.393622</td>\n",
       "    </tr>\n",
       "    <tr>\n",
       "      <th>10</th>\n",
       "      <td>10</td>\n",
       "      <td>Fork</td>\n",
       "      <td>0.062515</td>\n",
       "      <td>0.033439</td>\n",
       "      <td>0.432211</td>\n",
       "    </tr>\n",
       "    <tr>\n",
       "      <th>11</th>\n",
       "      <td>11</td>\n",
       "      <td>Spokewrench</td>\n",
       "      <td>0.118778</td>\n",
       "      <td>0.118778</td>\n",
       "      <td>0.366098</td>\n",
       "    </tr>\n",
       "    <tr>\n",
       "      <th>12</th>\n",
       "      <td>12</td>\n",
       "      <td>Spatula</td>\n",
       "      <td>0.147042</td>\n",
       "      <td>0.040368</td>\n",
       "      <td>0.583232</td>\n",
       "    </tr>\n",
       "  </tbody>\n",
       "</table>\n",
       "</div>"
      ],
      "text/plain": [
       "    tool_id           tools    tool_x    tool_y    tool_z\n",
       "0         0  PracticeHammer  0.208975  0.049109  0.398685\n",
       "1         1    Flowercutter  0.051337  0.034490  0.465000\n",
       "2         2      Fishscaler  0.111392  0.027690  0.500855\n",
       "3         3      Paintbrush  0.083830  0.023186  0.319111\n",
       "4         4    Paletteknife  0.082688  0.041789  0.460310\n",
       "5         5     Screwdriver  0.075933  0.075910  0.500602\n",
       "6         6          Trowel  0.133451  0.060288  0.593202\n",
       "7         7    Daisygrubber  0.102008  0.093502  0.638365\n",
       "8         8          Wrench  0.095500  0.026071  0.394331\n",
       "9         9          Zester  0.061505  0.045747  0.393622\n",
       "10       10            Fork  0.062515  0.033439  0.432211\n",
       "11       11     Spokewrench  0.118778  0.118778  0.366098\n",
       "12       12         Spatula  0.147042  0.040368  0.583232"
      ]
     },
     "execution_count": 13,
     "metadata": {},
     "output_type": "execute_result"
    }
   ],
   "source": [
    "tool_info = tool_info.loc[:,~tool_info.columns.duplicated()]\n",
    "tool_info"
   ]
  },
  {
   "cell_type": "code",
   "execution_count": 14,
   "id": "8a8d0024",
   "metadata": {},
   "outputs": [
    {
     "data": {
      "text/html": [
       "<div>\n",
       "<style scoped>\n",
       "    .dataframe tbody tr th:only-of-type {\n",
       "        vertical-align: middle;\n",
       "    }\n",
       "\n",
       "    .dataframe tbody tr th {\n",
       "        vertical-align: top;\n",
       "    }\n",
       "\n",
       "    .dataframe thead th {\n",
       "        text-align: right;\n",
       "    }\n",
       "</style>\n",
       "<table border=\"1\" class=\"dataframe\">\n",
       "  <thead>\n",
       "    <tr style=\"text-align: right;\">\n",
       "      <th></th>\n",
       "      <th>hmdPos.x</th>\n",
       "      <th>hmdPos.y</th>\n",
       "      <th>hmdPos.z</th>\n",
       "      <th>hmdRotation.x</th>\n",
       "      <th>hmdRotation.y</th>\n",
       "      <th>hmdRotation.z</th>\n",
       "      <th>hmdDirectionForward.x</th>\n",
       "      <th>hmdDirectionForward.y</th>\n",
       "      <th>hmdDirectionForward.z</th>\n",
       "      <th>controllerPosition.x</th>\n",
       "      <th>...</th>\n",
       "      <th>block_id</th>\n",
       "      <th>trial_id</th>\n",
       "      <th>tool_id</th>\n",
       "      <th>task</th>\n",
       "      <th>orientation</th>\n",
       "      <th>time</th>\n",
       "      <th>tools</th>\n",
       "      <th>tool_x</th>\n",
       "      <th>tool_y</th>\n",
       "      <th>tool_z</th>\n",
       "    </tr>\n",
       "  </thead>\n",
       "  <tbody>\n",
       "    <tr>\n",
       "      <th>0</th>\n",
       "      <td>-0.007580</td>\n",
       "      <td>1.202312</td>\n",
       "      <td>0.359243</td>\n",
       "      <td>14.818667</td>\n",
       "      <td>2.403177</td>\n",
       "      <td>4.030236</td>\n",
       "      <td>0.040536</td>\n",
       "      <td>-0.255761</td>\n",
       "      <td>0.965890</td>\n",
       "      <td>0.150678</td>\n",
       "      <td>...</td>\n",
       "      <td>1</td>\n",
       "      <td>1.0</td>\n",
       "      <td>2.0</td>\n",
       "      <td>0.0</td>\n",
       "      <td>0.0</td>\n",
       "      <td>-4.111459</td>\n",
       "      <td>Fishscaler</td>\n",
       "      <td>0.111392</td>\n",
       "      <td>0.027690</td>\n",
       "      <td>0.500855</td>\n",
       "    </tr>\n",
       "    <tr>\n",
       "      <th>1</th>\n",
       "      <td>-0.007583</td>\n",
       "      <td>1.202413</td>\n",
       "      <td>0.359154</td>\n",
       "      <td>14.786912</td>\n",
       "      <td>2.401190</td>\n",
       "      <td>4.036905</td>\n",
       "      <td>0.040509</td>\n",
       "      <td>-0.255225</td>\n",
       "      <td>0.966033</td>\n",
       "      <td>0.150660</td>\n",
       "      <td>...</td>\n",
       "      <td>1</td>\n",
       "      <td>1.0</td>\n",
       "      <td>2.0</td>\n",
       "      <td>0.0</td>\n",
       "      <td>0.0</td>\n",
       "      <td>-4.100460</td>\n",
       "      <td>Fishscaler</td>\n",
       "      <td>0.111392</td>\n",
       "      <td>0.027690</td>\n",
       "      <td>0.500855</td>\n",
       "    </tr>\n",
       "    <tr>\n",
       "      <th>2</th>\n",
       "      <td>-0.007579</td>\n",
       "      <td>1.202523</td>\n",
       "      <td>0.359064</td>\n",
       "      <td>14.751578</td>\n",
       "      <td>2.403390</td>\n",
       "      <td>4.039632</td>\n",
       "      <td>0.040553</td>\n",
       "      <td>-0.254629</td>\n",
       "      <td>0.966188</td>\n",
       "      <td>0.150567</td>\n",
       "      <td>...</td>\n",
       "      <td>1</td>\n",
       "      <td>1.0</td>\n",
       "      <td>2.0</td>\n",
       "      <td>0.0</td>\n",
       "      <td>0.0</td>\n",
       "      <td>-4.089452</td>\n",
       "      <td>Fishscaler</td>\n",
       "      <td>0.111392</td>\n",
       "      <td>0.027690</td>\n",
       "      <td>0.500855</td>\n",
       "    </tr>\n",
       "    <tr>\n",
       "      <th>3</th>\n",
       "      <td>-0.007548</td>\n",
       "      <td>1.202593</td>\n",
       "      <td>0.358988</td>\n",
       "      <td>14.725022</td>\n",
       "      <td>2.407199</td>\n",
       "      <td>4.034133</td>\n",
       "      <td>0.040622</td>\n",
       "      <td>-0.254180</td>\n",
       "      <td>0.966303</td>\n",
       "      <td>0.150341</td>\n",
       "      <td>...</td>\n",
       "      <td>1</td>\n",
       "      <td>1.0</td>\n",
       "      <td>2.0</td>\n",
       "      <td>0.0</td>\n",
       "      <td>0.0</td>\n",
       "      <td>-4.077455</td>\n",
       "      <td>Fishscaler</td>\n",
       "      <td>0.111392</td>\n",
       "      <td>0.027690</td>\n",
       "      <td>0.500855</td>\n",
       "    </tr>\n",
       "    <tr>\n",
       "      <th>4</th>\n",
       "      <td>-0.007534</td>\n",
       "      <td>1.202675</td>\n",
       "      <td>0.358884</td>\n",
       "      <td>14.697697</td>\n",
       "      <td>2.410301</td>\n",
       "      <td>4.048664</td>\n",
       "      <td>0.040679</td>\n",
       "      <td>-0.253719</td>\n",
       "      <td>0.966422</td>\n",
       "      <td>0.150136</td>\n",
       "      <td>...</td>\n",
       "      <td>1</td>\n",
       "      <td>1.0</td>\n",
       "      <td>2.0</td>\n",
       "      <td>0.0</td>\n",
       "      <td>0.0</td>\n",
       "      <td>-4.066448</td>\n",
       "      <td>Fishscaler</td>\n",
       "      <td>0.111392</td>\n",
       "      <td>0.027690</td>\n",
       "      <td>0.500855</td>\n",
       "    </tr>\n",
       "    <tr>\n",
       "      <th>...</th>\n",
       "      <td>...</td>\n",
       "      <td>...</td>\n",
       "      <td>...</td>\n",
       "      <td>...</td>\n",
       "      <td>...</td>\n",
       "      <td>...</td>\n",
       "      <td>...</td>\n",
       "      <td>...</td>\n",
       "      <td>...</td>\n",
       "      <td>...</td>\n",
       "      <td>...</td>\n",
       "      <td>...</td>\n",
       "      <td>...</td>\n",
       "      <td>...</td>\n",
       "      <td>...</td>\n",
       "      <td>...</td>\n",
       "      <td>...</td>\n",
       "      <td>...</td>\n",
       "      <td>...</td>\n",
       "      <td>...</td>\n",
       "      <td>...</td>\n",
       "    </tr>\n",
       "    <tr>\n",
       "      <th>5164083</th>\n",
       "      <td>0.002688</td>\n",
       "      <td>1.243030</td>\n",
       "      <td>0.135560</td>\n",
       "      <td>18.445049</td>\n",
       "      <td>359.643402</td>\n",
       "      <td>359.219452</td>\n",
       "      <td>-0.005904</td>\n",
       "      <td>-0.316395</td>\n",
       "      <td>0.948609</td>\n",
       "      <td>-0.086771</td>\n",
       "      <td>...</td>\n",
       "      <td>6</td>\n",
       "      <td>48.0</td>\n",
       "      <td>3.0</td>\n",
       "      <td>1.0</td>\n",
       "      <td>1.0</td>\n",
       "      <td>3.964006</td>\n",
       "      <td>Paintbrush</td>\n",
       "      <td>0.083830</td>\n",
       "      <td>0.023186</td>\n",
       "      <td>0.319111</td>\n",
       "    </tr>\n",
       "    <tr>\n",
       "      <th>5164084</th>\n",
       "      <td>0.002248</td>\n",
       "      <td>1.243049</td>\n",
       "      <td>0.135887</td>\n",
       "      <td>18.478350</td>\n",
       "      <td>359.697937</td>\n",
       "      <td>359.214203</td>\n",
       "      <td>-0.005000</td>\n",
       "      <td>-0.316946</td>\n",
       "      <td>0.948430</td>\n",
       "      <td>-0.088927</td>\n",
       "      <td>...</td>\n",
       "      <td>6</td>\n",
       "      <td>48.0</td>\n",
       "      <td>3.0</td>\n",
       "      <td>1.0</td>\n",
       "      <td>1.0</td>\n",
       "      <td>3.975000</td>\n",
       "      <td>Paintbrush</td>\n",
       "      <td>0.083830</td>\n",
       "      <td>0.023186</td>\n",
       "      <td>0.319111</td>\n",
       "    </tr>\n",
       "    <tr>\n",
       "      <th>5164085</th>\n",
       "      <td>0.001811</td>\n",
       "      <td>1.243068</td>\n",
       "      <td>0.136203</td>\n",
       "      <td>18.502861</td>\n",
       "      <td>359.754364</td>\n",
       "      <td>359.202423</td>\n",
       "      <td>-0.004066</td>\n",
       "      <td>-0.317352</td>\n",
       "      <td>0.948299</td>\n",
       "      <td>-0.090674</td>\n",
       "      <td>...</td>\n",
       "      <td>6</td>\n",
       "      <td>48.0</td>\n",
       "      <td>3.0</td>\n",
       "      <td>1.0</td>\n",
       "      <td>1.0</td>\n",
       "      <td>3.986004</td>\n",
       "      <td>Paintbrush</td>\n",
       "      <td>0.083830</td>\n",
       "      <td>0.023186</td>\n",
       "      <td>0.319111</td>\n",
       "    </tr>\n",
       "    <tr>\n",
       "      <th>5164086</th>\n",
       "      <td>0.001369</td>\n",
       "      <td>1.243153</td>\n",
       "      <td>0.136455</td>\n",
       "      <td>18.499409</td>\n",
       "      <td>359.787018</td>\n",
       "      <td>359.191650</td>\n",
       "      <td>-0.003525</td>\n",
       "      <td>-0.317295</td>\n",
       "      <td>0.948320</td>\n",
       "      <td>-0.091952</td>\n",
       "      <td>...</td>\n",
       "      <td>6</td>\n",
       "      <td>48.0</td>\n",
       "      <td>3.0</td>\n",
       "      <td>1.0</td>\n",
       "      <td>1.0</td>\n",
       "      <td>3.997000</td>\n",
       "      <td>Paintbrush</td>\n",
       "      <td>0.083830</td>\n",
       "      <td>0.023186</td>\n",
       "      <td>0.319111</td>\n",
       "    </tr>\n",
       "    <tr>\n",
       "      <th>5164087</th>\n",
       "      <td>0.000877</td>\n",
       "      <td>1.243282</td>\n",
       "      <td>0.136737</td>\n",
       "      <td>18.461073</td>\n",
       "      <td>359.833130</td>\n",
       "      <td>359.179657</td>\n",
       "      <td>-0.002762</td>\n",
       "      <td>-0.316660</td>\n",
       "      <td>0.948535</td>\n",
       "      <td>-0.092901</td>\n",
       "      <td>...</td>\n",
       "      <td>6</td>\n",
       "      <td>48.0</td>\n",
       "      <td>3.0</td>\n",
       "      <td>1.0</td>\n",
       "      <td>1.0</td>\n",
       "      <td>4.008002</td>\n",
       "      <td>Paintbrush</td>\n",
       "      <td>0.083830</td>\n",
       "      <td>0.023186</td>\n",
       "      <td>0.319111</td>\n",
       "    </tr>\n",
       "  </tbody>\n",
       "</table>\n",
       "<p>5164088 rows × 82 columns</p>\n",
       "</div>"
      ],
      "text/plain": [
       "         hmdPos.x  hmdPos.y  hmdPos.z  hmdRotation.x  hmdRotation.y  \\\n",
       "0       -0.007580  1.202312  0.359243      14.818667       2.403177   \n",
       "1       -0.007583  1.202413  0.359154      14.786912       2.401190   \n",
       "2       -0.007579  1.202523  0.359064      14.751578       2.403390   \n",
       "3       -0.007548  1.202593  0.358988      14.725022       2.407199   \n",
       "4       -0.007534  1.202675  0.358884      14.697697       2.410301   \n",
       "...           ...       ...       ...            ...            ...   \n",
       "5164083  0.002688  1.243030  0.135560      18.445049     359.643402   \n",
       "5164084  0.002248  1.243049  0.135887      18.478350     359.697937   \n",
       "5164085  0.001811  1.243068  0.136203      18.502861     359.754364   \n",
       "5164086  0.001369  1.243153  0.136455      18.499409     359.787018   \n",
       "5164087  0.000877  1.243282  0.136737      18.461073     359.833130   \n",
       "\n",
       "         hmdRotation.z  hmdDirectionForward.x  hmdDirectionForward.y  \\\n",
       "0             4.030236               0.040536              -0.255761   \n",
       "1             4.036905               0.040509              -0.255225   \n",
       "2             4.039632               0.040553              -0.254629   \n",
       "3             4.034133               0.040622              -0.254180   \n",
       "4             4.048664               0.040679              -0.253719   \n",
       "...                ...                    ...                    ...   \n",
       "5164083     359.219452              -0.005904              -0.316395   \n",
       "5164084     359.214203              -0.005000              -0.316946   \n",
       "5164085     359.202423              -0.004066              -0.317352   \n",
       "5164086     359.191650              -0.003525              -0.317295   \n",
       "5164087     359.179657              -0.002762              -0.316660   \n",
       "\n",
       "         hmdDirectionForward.z  controllerPosition.x  ...  block_id  trial_id  \\\n",
       "0                     0.965890              0.150678  ...         1       1.0   \n",
       "1                     0.966033              0.150660  ...         1       1.0   \n",
       "2                     0.966188              0.150567  ...         1       1.0   \n",
       "3                     0.966303              0.150341  ...         1       1.0   \n",
       "4                     0.966422              0.150136  ...         1       1.0   \n",
       "...                        ...                   ...  ...       ...       ...   \n",
       "5164083               0.948609             -0.086771  ...         6      48.0   \n",
       "5164084               0.948430             -0.088927  ...         6      48.0   \n",
       "5164085               0.948299             -0.090674  ...         6      48.0   \n",
       "5164086               0.948320             -0.091952  ...         6      48.0   \n",
       "5164087               0.948535             -0.092901  ...         6      48.0   \n",
       "\n",
       "         tool_id  task  orientation      time       tools    tool_x    tool_y  \\\n",
       "0            2.0   0.0          0.0 -4.111459  Fishscaler  0.111392  0.027690   \n",
       "1            2.0   0.0          0.0 -4.100460  Fishscaler  0.111392  0.027690   \n",
       "2            2.0   0.0          0.0 -4.089452  Fishscaler  0.111392  0.027690   \n",
       "3            2.0   0.0          0.0 -4.077455  Fishscaler  0.111392  0.027690   \n",
       "4            2.0   0.0          0.0 -4.066448  Fishscaler  0.111392  0.027690   \n",
       "...          ...   ...          ...       ...         ...       ...       ...   \n",
       "5164083      3.0   1.0          1.0  3.964006  Paintbrush  0.083830  0.023186   \n",
       "5164084      3.0   1.0          1.0  3.975000  Paintbrush  0.083830  0.023186   \n",
       "5164085      3.0   1.0          1.0  3.986004  Paintbrush  0.083830  0.023186   \n",
       "5164086      3.0   1.0          1.0  3.997000  Paintbrush  0.083830  0.023186   \n",
       "5164087      3.0   1.0          1.0  4.008002  Paintbrush  0.083830  0.023186   \n",
       "\n",
       "           tool_z  \n",
       "0        0.500855  \n",
       "1        0.500855  \n",
       "2        0.500855  \n",
       "3        0.500855  \n",
       "4        0.500855  \n",
       "...           ...  \n",
       "5164083  0.319111  \n",
       "5164084  0.319111  \n",
       "5164085  0.319111  \n",
       "5164086  0.319111  \n",
       "5164087  0.319111  \n",
       "\n",
       "[5164088 rows x 82 columns]"
      ]
     },
     "execution_count": 14,
     "metadata": {},
     "output_type": "execute_result"
    }
   ],
   "source": [
    "et_samples_df = pd.merge(et_samples_df, tool_info, left_on='tool_id', right_on='tool_id', how='left')\n",
    "et_samples_df"
   ]
  },
  {
   "cell_type": "markdown",
   "id": "c52c2d24",
   "metadata": {},
   "source": [
    "## TODO\n",
    "- descriptive stats on fixation saccade duration with plot (--)\n",
    "- plot with spatial distribution of samples on the tool (--)\n",
    "- toolwise familiarity rating (in the questionnarie notebook)\n",
    "- descriptive on order of fixation analysis (--)\n",
    "- framerate plot (--)\n",
    "- "
   ]
  },
  {
   "cell_type": "markdown",
   "id": "0f51624c",
   "metadata": {},
   "source": [
    "### Classify trials based on Task, Familiarity and handle orientation"
   ]
  },
  {
   "cell_type": "code",
   "execution_count": 15,
   "id": "af05e91b",
   "metadata": {},
   "outputs": [],
   "source": [
    "familiar_tools = ['Fork','Trowel','Screwdriver','Spatula', 'Paintbrush','Wrench']\n",
    "\n",
    "# Assign familiarity to tool \n",
    "def familiarityCheck(tool):   \n",
    "    if tool in familiar_tools:\n",
    "        return 'familiar'\n",
    "    else:\n",
    "        return 'unfamiliar'\n",
    "    \n",
    "    \n",
    "# Add familarity column to trials \n",
    "et_samples_df['familiarity'] = et_samples_df['tools'].apply(familiarityCheck)"
   ]
  },
  {
   "cell_type": "code",
   "execution_count": 16,
   "id": "110d57be",
   "metadata": {},
   "outputs": [],
   "source": [
    "et_samples_df['task'] = et_samples_df['task'].map({0:'use', 1:'lift'})\n",
    "et_samples_df['orientation'] = et_samples_df['orientation'].map({0:'right', 1:'left'})"
   ]
  },
  {
   "cell_type": "code",
   "execution_count": 21,
   "id": "c548f493",
   "metadata": {},
   "outputs": [],
   "source": [
    "et_samples_df.to_csv('./00_ET_samples.csv')"
   ]
  },
  {
   "cell_type": "code",
   "execution_count": 7,
   "id": "20b8ee50",
   "metadata": {},
   "outputs": [
    {
     "ename": "KeyboardInterrupt",
     "evalue": "",
     "output_type": "error",
     "traceback": [
      "\u001b[1;31m---------------------------------------------------------------------------\u001b[0m",
      "\u001b[1;31mKeyboardInterrupt\u001b[0m                         Traceback (most recent call last)",
      "\u001b[1;32m~\\AppData\\Local\\Temp/ipykernel_18508/1712236974.py\u001b[0m in \u001b[0;36m<module>\u001b[1;34m\u001b[0m\n\u001b[1;32m----> 1\u001b[1;33m \u001b[0met_samples_df\u001b[0m \u001b[1;33m=\u001b[0m \u001b[0mpd\u001b[0m\u001b[1;33m.\u001b[0m\u001b[0mread_csv\u001b[0m\u001b[1;33m(\u001b[0m\u001b[1;34m'./00_ET_samples.csv'\u001b[0m\u001b[1;33m)\u001b[0m\u001b[1;33m\u001b[0m\u001b[1;33m\u001b[0m\u001b[0m\n\u001b[0m",
      "\u001b[1;32m~\\.conda\\envs\\conda_gti_eeg\\lib\\site-packages\\pandas\\util\\_decorators.py\u001b[0m in \u001b[0;36mwrapper\u001b[1;34m(*args, **kwargs)\u001b[0m\n\u001b[0;32m    309\u001b[0m                     \u001b[0mstacklevel\u001b[0m\u001b[1;33m=\u001b[0m\u001b[0mstacklevel\u001b[0m\u001b[1;33m,\u001b[0m\u001b[1;33m\u001b[0m\u001b[1;33m\u001b[0m\u001b[0m\n\u001b[0;32m    310\u001b[0m                 )\n\u001b[1;32m--> 311\u001b[1;33m             \u001b[1;32mreturn\u001b[0m \u001b[0mfunc\u001b[0m\u001b[1;33m(\u001b[0m\u001b[1;33m*\u001b[0m\u001b[0margs\u001b[0m\u001b[1;33m,\u001b[0m \u001b[1;33m**\u001b[0m\u001b[0mkwargs\u001b[0m\u001b[1;33m)\u001b[0m\u001b[1;33m\u001b[0m\u001b[1;33m\u001b[0m\u001b[0m\n\u001b[0m\u001b[0;32m    312\u001b[0m \u001b[1;33m\u001b[0m\u001b[0m\n\u001b[0;32m    313\u001b[0m         \u001b[1;32mreturn\u001b[0m \u001b[0mwrapper\u001b[0m\u001b[1;33m\u001b[0m\u001b[1;33m\u001b[0m\u001b[0m\n",
      "\u001b[1;32m~\\.conda\\envs\\conda_gti_eeg\\lib\\site-packages\\pandas\\io\\parsers\\readers.py\u001b[0m in \u001b[0;36mread_csv\u001b[1;34m(filepath_or_buffer, sep, delimiter, header, names, index_col, usecols, squeeze, prefix, mangle_dupe_cols, dtype, engine, converters, true_values, false_values, skipinitialspace, skiprows, skipfooter, nrows, na_values, keep_default_na, na_filter, verbose, skip_blank_lines, parse_dates, infer_datetime_format, keep_date_col, date_parser, dayfirst, cache_dates, iterator, chunksize, compression, thousands, decimal, lineterminator, quotechar, quoting, doublequote, escapechar, comment, encoding, encoding_errors, dialect, error_bad_lines, warn_bad_lines, on_bad_lines, delim_whitespace, low_memory, memory_map, float_precision, storage_options)\u001b[0m\n\u001b[0;32m    584\u001b[0m     \u001b[0mkwds\u001b[0m\u001b[1;33m.\u001b[0m\u001b[0mupdate\u001b[0m\u001b[1;33m(\u001b[0m\u001b[0mkwds_defaults\u001b[0m\u001b[1;33m)\u001b[0m\u001b[1;33m\u001b[0m\u001b[1;33m\u001b[0m\u001b[0m\n\u001b[0;32m    585\u001b[0m \u001b[1;33m\u001b[0m\u001b[0m\n\u001b[1;32m--> 586\u001b[1;33m     \u001b[1;32mreturn\u001b[0m \u001b[0m_read\u001b[0m\u001b[1;33m(\u001b[0m\u001b[0mfilepath_or_buffer\u001b[0m\u001b[1;33m,\u001b[0m \u001b[0mkwds\u001b[0m\u001b[1;33m)\u001b[0m\u001b[1;33m\u001b[0m\u001b[1;33m\u001b[0m\u001b[0m\n\u001b[0m\u001b[0;32m    587\u001b[0m \u001b[1;33m\u001b[0m\u001b[0m\n\u001b[0;32m    588\u001b[0m \u001b[1;33m\u001b[0m\u001b[0m\n",
      "\u001b[1;32m~\\.conda\\envs\\conda_gti_eeg\\lib\\site-packages\\pandas\\io\\parsers\\readers.py\u001b[0m in \u001b[0;36m_read\u001b[1;34m(filepath_or_buffer, kwds)\u001b[0m\n\u001b[0;32m    486\u001b[0m \u001b[1;33m\u001b[0m\u001b[0m\n\u001b[0;32m    487\u001b[0m     \u001b[1;32mwith\u001b[0m \u001b[0mparser\u001b[0m\u001b[1;33m:\u001b[0m\u001b[1;33m\u001b[0m\u001b[1;33m\u001b[0m\u001b[0m\n\u001b[1;32m--> 488\u001b[1;33m         \u001b[1;32mreturn\u001b[0m \u001b[0mparser\u001b[0m\u001b[1;33m.\u001b[0m\u001b[0mread\u001b[0m\u001b[1;33m(\u001b[0m\u001b[0mnrows\u001b[0m\u001b[1;33m)\u001b[0m\u001b[1;33m\u001b[0m\u001b[1;33m\u001b[0m\u001b[0m\n\u001b[0m\u001b[0;32m    489\u001b[0m \u001b[1;33m\u001b[0m\u001b[0m\n\u001b[0;32m    490\u001b[0m \u001b[1;33m\u001b[0m\u001b[0m\n",
      "\u001b[1;32m~\\.conda\\envs\\conda_gti_eeg\\lib\\site-packages\\pandas\\io\\parsers\\readers.py\u001b[0m in \u001b[0;36mread\u001b[1;34m(self, nrows)\u001b[0m\n\u001b[0;32m   1045\u001b[0m     \u001b[1;32mdef\u001b[0m \u001b[0mread\u001b[0m\u001b[1;33m(\u001b[0m\u001b[0mself\u001b[0m\u001b[1;33m,\u001b[0m \u001b[0mnrows\u001b[0m\u001b[1;33m=\u001b[0m\u001b[1;32mNone\u001b[0m\u001b[1;33m)\u001b[0m\u001b[1;33m:\u001b[0m\u001b[1;33m\u001b[0m\u001b[1;33m\u001b[0m\u001b[0m\n\u001b[0;32m   1046\u001b[0m         \u001b[0mnrows\u001b[0m \u001b[1;33m=\u001b[0m \u001b[0mvalidate_integer\u001b[0m\u001b[1;33m(\u001b[0m\u001b[1;34m\"nrows\"\u001b[0m\u001b[1;33m,\u001b[0m \u001b[0mnrows\u001b[0m\u001b[1;33m)\u001b[0m\u001b[1;33m\u001b[0m\u001b[1;33m\u001b[0m\u001b[0m\n\u001b[1;32m-> 1047\u001b[1;33m         \u001b[0mindex\u001b[0m\u001b[1;33m,\u001b[0m \u001b[0mcolumns\u001b[0m\u001b[1;33m,\u001b[0m \u001b[0mcol_dict\u001b[0m \u001b[1;33m=\u001b[0m \u001b[0mself\u001b[0m\u001b[1;33m.\u001b[0m\u001b[0m_engine\u001b[0m\u001b[1;33m.\u001b[0m\u001b[0mread\u001b[0m\u001b[1;33m(\u001b[0m\u001b[0mnrows\u001b[0m\u001b[1;33m)\u001b[0m\u001b[1;33m\u001b[0m\u001b[1;33m\u001b[0m\u001b[0m\n\u001b[0m\u001b[0;32m   1048\u001b[0m \u001b[1;33m\u001b[0m\u001b[0m\n\u001b[0;32m   1049\u001b[0m         \u001b[1;32mif\u001b[0m \u001b[0mindex\u001b[0m \u001b[1;32mis\u001b[0m \u001b[1;32mNone\u001b[0m\u001b[1;33m:\u001b[0m\u001b[1;33m\u001b[0m\u001b[1;33m\u001b[0m\u001b[0m\n",
      "\u001b[1;32m~\\.conda\\envs\\conda_gti_eeg\\lib\\site-packages\\pandas\\io\\parsers\\c_parser_wrapper.py\u001b[0m in \u001b[0;36mread\u001b[1;34m(self, nrows)\u001b[0m\n\u001b[0;32m    221\u001b[0m         \u001b[1;32mtry\u001b[0m\u001b[1;33m:\u001b[0m\u001b[1;33m\u001b[0m\u001b[1;33m\u001b[0m\u001b[0m\n\u001b[0;32m    222\u001b[0m             \u001b[1;32mif\u001b[0m \u001b[0mself\u001b[0m\u001b[1;33m.\u001b[0m\u001b[0mlow_memory\u001b[0m\u001b[1;33m:\u001b[0m\u001b[1;33m\u001b[0m\u001b[1;33m\u001b[0m\u001b[0m\n\u001b[1;32m--> 223\u001b[1;33m                 \u001b[0mchunks\u001b[0m \u001b[1;33m=\u001b[0m \u001b[0mself\u001b[0m\u001b[1;33m.\u001b[0m\u001b[0m_reader\u001b[0m\u001b[1;33m.\u001b[0m\u001b[0mread_low_memory\u001b[0m\u001b[1;33m(\u001b[0m\u001b[0mnrows\u001b[0m\u001b[1;33m)\u001b[0m\u001b[1;33m\u001b[0m\u001b[1;33m\u001b[0m\u001b[0m\n\u001b[0m\u001b[0;32m    224\u001b[0m                 \u001b[1;31m# destructive to chunks\u001b[0m\u001b[1;33m\u001b[0m\u001b[1;33m\u001b[0m\u001b[0m\n\u001b[0;32m    225\u001b[0m                 \u001b[0mdata\u001b[0m \u001b[1;33m=\u001b[0m \u001b[0m_concatenate_chunks\u001b[0m\u001b[1;33m(\u001b[0m\u001b[0mchunks\u001b[0m\u001b[1;33m)\u001b[0m\u001b[1;33m\u001b[0m\u001b[1;33m\u001b[0m\u001b[0m\n",
      "\u001b[1;32m~\\.conda\\envs\\conda_gti_eeg\\lib\\site-packages\\pandas\\_libs\\parsers.pyx\u001b[0m in \u001b[0;36mpandas._libs.parsers.TextReader.read_low_memory\u001b[1;34m()\u001b[0m\n",
      "\u001b[1;32m~\\.conda\\envs\\conda_gti_eeg\\lib\\site-packages\\pandas\\_libs\\parsers.pyx\u001b[0m in \u001b[0;36mpandas._libs.parsers.TextReader._read_rows\u001b[1;34m()\u001b[0m\n",
      "\u001b[1;32m~\\.conda\\envs\\conda_gti_eeg\\lib\\site-packages\\pandas\\_libs\\parsers.pyx\u001b[0m in \u001b[0;36mpandas._libs.parsers.TextReader._convert_column_data\u001b[1;34m()\u001b[0m\n",
      "\u001b[1;32m~\\.conda\\envs\\conda_gti_eeg\\lib\\site-packages\\pandas\\_libs\\parsers.pyx\u001b[0m in \u001b[0;36mpandas._libs.parsers.TextReader._convert_tokens\u001b[1;34m()\u001b[0m\n",
      "\u001b[1;32m~\\.conda\\envs\\conda_gti_eeg\\lib\\site-packages\\pandas\\_libs\\parsers.pyx\u001b[0m in \u001b[0;36mpandas._libs.parsers.TextReader._convert_with_dtype\u001b[1;34m()\u001b[0m\n",
      "\u001b[1;32m~\\.conda\\envs\\conda_gti_eeg\\lib\\site-packages\\pandas\\core\\dtypes\\common.py\u001b[0m in \u001b[0;36mis_extension_array_dtype\u001b[1;34m(arr_or_dtype)\u001b[0m\n\u001b[0;32m   1418\u001b[0m \u001b[1;33m\u001b[0m\u001b[0m\n\u001b[0;32m   1419\u001b[0m \u001b[1;33m\u001b[0m\u001b[0m\n\u001b[1;32m-> 1420\u001b[1;33m \u001b[1;32mdef\u001b[0m \u001b[0mis_extension_array_dtype\u001b[0m\u001b[1;33m(\u001b[0m\u001b[0marr_or_dtype\u001b[0m\u001b[1;33m)\u001b[0m \u001b[1;33m->\u001b[0m \u001b[0mbool\u001b[0m\u001b[1;33m:\u001b[0m\u001b[1;33m\u001b[0m\u001b[1;33m\u001b[0m\u001b[0m\n\u001b[0m\u001b[0;32m   1421\u001b[0m     \"\"\"\n\u001b[0;32m   1422\u001b[0m     \u001b[0mCheck\u001b[0m \u001b[1;32mif\u001b[0m \u001b[0man\u001b[0m \u001b[0mobject\u001b[0m \u001b[1;32mis\u001b[0m \u001b[0ma\u001b[0m \u001b[0mpandas\u001b[0m \u001b[0mextension\u001b[0m \u001b[0marray\u001b[0m \u001b[0mtype\u001b[0m\u001b[1;33m.\u001b[0m\u001b[1;33m\u001b[0m\u001b[1;33m\u001b[0m\u001b[0m\n",
      "\u001b[1;31mKeyboardInterrupt\u001b[0m: "
     ]
    }
   ],
   "source": [
    "et_samples_df = pd.read_csv('./00_ET_samples.csv')"
   ]
  },
  {
   "cell_type": "code",
   "execution_count": 17,
   "id": "e5a018bb",
   "metadata": {},
   "outputs": [
    {
     "data": {
      "text/plain": [
       "12"
      ]
     },
     "execution_count": 17,
     "metadata": {},
     "output_type": "execute_result"
    }
   ],
   "source": [
    "et_samples_df.tool_id.nunique()"
   ]
  },
  {
   "cell_type": "code",
   "execution_count": 18,
   "id": "8aedbc14",
   "metadata": {},
   "outputs": [
    {
     "data": {
      "text/plain": [
       "tool_id\n",
       "1.0     0.249739\n",
       "2.0     0.304227\n",
       "3.0     0.275538\n",
       "4.0     0.285768\n",
       "5.0     0.309112\n",
       "6.0     0.313940\n",
       "7.0     0.334092\n",
       "8.0     0.291950\n",
       "9.0     0.264610\n",
       "10.0    0.257841\n",
       "11.0    0.351031\n",
       "12.0    0.291409\n",
       "Name: taskObjectWasHit, dtype: float32"
      ]
     },
     "execution_count": 18,
     "metadata": {},
     "output_type": "execute_result"
    }
   ],
   "source": [
    "et_samples_df.groupby(['tool_id']).taskObjectWasHit.mean()"
   ]
  },
  {
   "cell_type": "code",
   "execution_count": 19,
   "id": "67e70806",
   "metadata": {},
   "outputs": [
    {
     "data": {
      "text/plain": [
       "subject_id\n",
       "M006    288\n",
       "M007    240\n",
       "M008    288\n",
       "M009    288\n",
       "M010    288\n",
       "M011    288\n",
       "M012    288\n",
       "M013    288\n",
       "M014    288\n",
       "M015    288\n",
       "M016    288\n",
       "M017    288\n",
       "M018    288\n",
       "M019    240\n",
       "M020    288\n",
       "M021    288\n",
       "M022    288\n",
       "M023    288\n",
       "M024    288\n",
       "M025    240\n",
       "M026    288\n",
       "M027    288\n",
       "M028    288\n",
       "M029    288\n",
       "M030    288\n",
       "Name: trial_id, dtype: int64"
      ]
     },
     "execution_count": 19,
     "metadata": {},
     "output_type": "execute_result"
    }
   ],
   "source": [
    "(\n",
    "    et_samples_df\n",
    "    .groupby(['subject_id', 'block_id'])\n",
    "    .trial_id\n",
    "    .nunique()\n",
    "    .reset_index()\n",
    "    .groupby('subject_id')\n",
    "    .trial_id\n",
    "    .sum()\n",
    ")\n",
    "\n",
    "## Number of trials per subject"
   ]
  },
  {
   "cell_type": "code",
   "execution_count": 20,
   "id": "25881646",
   "metadata": {},
   "outputs": [
    {
     "data": {
      "text/plain": [
       "25"
      ]
     },
     "execution_count": 20,
     "metadata": {},
     "output_type": "execute_result"
    }
   ],
   "source": [
    "## Number of subjects\n",
    "et_samples_df.subject_id.nunique()"
   ]
  },
  {
   "cell_type": "markdown",
   "id": "937ead18",
   "metadata": {},
   "source": [
    "#### scratch\n",
    "et_samples_df[['eyeDirectionCombinedWorld.x', 'eyeDirectionCombinedWorld.y', 'eyeDirectionCombinedWorld.z']] = (\n",
    "    et_samples_df\n",
    "    .groupby(['subject_id', 'block_id', 'trial_id'])\n",
    "    [['eyeDirectionCombinedWorld.x', 'eyeDirectionCombinedWorld.y', 'eyeDirectionCombinedWorld.z']]\n",
    "    .transform(\n",
    "        lambda x:  signal.medfilt(x, kernel_size=3)\n",
    "        #x.interpolate(method='linear', axis=0, limit_area='inside')\n",
    "    )\n",
    ")"
   ]
  },
  {
   "cell_type": "markdown",
   "id": "dc4d7085",
   "metadata": {},
   "source": [
    "### Fixation Detection"
   ]
  },
  {
   "cell_type": "code",
   "execution_count": 21,
   "id": "112c632e",
   "metadata": {},
   "outputs": [],
   "source": [
    "def simple_mad(angular_vel, thresh = 5):\n",
    "    # Check input format \n",
    "    if len(angular_vel.shape) == 1:\n",
    "        angular_vel = angular_vel[:,None]\n",
    "    \n",
    "    # Median of input \n",
    "    median = np.median(angular_vel)\n",
    "    \n",
    "    # Absolute difference of input values from median \n",
    "    diff = (angular_vel - median)**2\n",
    "    diff = np.sqrt(diff)\n",
    "    \n",
    "    # Median of absolute difference \n",
    "    med_abs_deviation = np.median(diff)\n",
    "    \n",
    "    # New threshold is median + coefficient * median of absolute difference \n",
    "    saccade_thresh = median + thresh*med_abs_deviation\n",
    "    return saccade_thresh\n",
    "\n",
    "def at_mad(angular_vel, th_0=200):\n",
    "    threshs = []\n",
    "    thresh_coeff = 3*1.48\n",
    "    \n",
    "    # Check input format \n",
    "    if len(angular_vel.shape) == 1:\n",
    "        angular_vel = angular_vel[:,None]\n",
    "\n",
    "    # As long as difference between newly calculated threshold and previous threshold is greater 1\n",
    "    while True:\n",
    "        threshs.append(th_0) # store current threshold\n",
    "        angular_vel = angular_vel[angular_vel < th_0] # cut all values above current threshold      \n",
    "        median = np.median(angular_vel) # median of values that are < threshold\n",
    "        diff = (angular_vel - median)**2 # absolute difference between values and median\n",
    "        diff = np.sqrt(diff)\n",
    "        med_abs_deviation = np.median(diff) # median of absolute difference \n",
    "        th_1 = median + thresh_coeff*med_abs_deviation # new thresh = median + coefficient * median absolute deviation\n",
    "#         print(th_0, th_1)\n",
    "        if (th_0 - th_1)>1: # make new thresh current thresh and restart in loop             \n",
    "            th_0 = th_1\n",
    "        else: # difference between threshs small enough, new thresh becomes saccade thresh \n",
    "            saccade_thresh = th_1 \n",
    "            threshs.append(saccade_thresh)\n",
    "            break\n",
    "    return saccade_thresh\n",
    "\n",
    "et_samples_df['eye_theta_h'] = np.degrees(\n",
    "    np.arctan2(et_samples_df['eyeDirectionCombinedWorld.x'], et_samples_df['eyeDirectionCombinedWorld.z'])\n",
    ")\n",
    "et_samples_df['eye_theta_v'] = np.degrees(\n",
    "    np.arctan2(et_samples_df['eyeDirectionCombinedWorld.y'], et_samples_df['eyeDirectionCombinedWorld.z'])\n",
    ")\n",
    "\n",
    "et_samples_df.reset_index(inplace=True)\n",
    "et_samples_df.sort_values(by='timestamps', inplace=True)\n",
    "\n",
    "et_samples_df['vel_h'] = (\n",
    "    et_samples_df\n",
    "    .groupby(['subject_id','block_id', 'trial_id'])\n",
    "    .eye_theta_h\n",
    "    .apply(lambda x: x.diff())\n",
    "    )/(et_samples_df\n",
    "    .groupby(['subject_id','block_id', 'trial_id'])\n",
    "    .timestamps\n",
    "    .apply(lambda x: x.diff())\n",
    "    )\n",
    "\n",
    "et_samples_df['vel_v'] = (\n",
    "    et_samples_df\n",
    "    .groupby(['subject_id','block_id', 'trial_id'])\n",
    "    .eye_theta_v\n",
    "    .apply(lambda x: x.diff())\n",
    "    )/(et_samples_df\n",
    "    .groupby(['subject_id','block_id', 'trial_id'])\n",
    "    .timestamps\n",
    "    .apply(lambda x: x.diff())\n",
    "    )\n",
    "\n",
    "et_samples_df['vel'] = np.sqrt(et_samples_df.vel_h**2 + et_samples_df.vel_v**2)\n"
   ]
  },
  {
   "cell_type": "code",
   "execution_count": 22,
   "id": "30ca29c8",
   "metadata": {},
   "outputs": [],
   "source": [
    "et_samples_df['time_from_start'] = (\n",
    "    et_samples_df\n",
    "    .groupby(['subject_id', 'block_id', 'trial_id'])    \n",
    "    .timestamps\n",
    "    .apply(lambda x: x - x.iloc[0])\n",
    ") "
   ]
  },
  {
   "cell_type": "code",
   "execution_count": 23,
   "id": "386c6961",
   "metadata": {},
   "outputs": [
    {
     "name": "stderr",
     "output_type": "stream",
     "text": [
      "C:\\Users\\akeshava\\AppData\\Local\\Temp/ipykernel_18508/3113158506.py:26: FutureWarning: Support for multi-dimensional indexing (e.g. `obj[:, None]`) is deprecated and will be removed in a future version.  Convert to a numpy array before indexing instead.\n",
      "  angular_vel = angular_vel[:,None]\n"
     ]
    }
   ],
   "source": [
    "et_samples_df['is_fixation'] = False\n",
    "et_samples_df['is_fixation'] = (\n",
    "    et_samples_df\n",
    "    .groupby(['subject_id','block_id', 'trial_id'], as_index=False)\n",
    "    .vel\n",
    "    .transform(lambda x: x < at_mad(x))\n",
    ")"
   ]
  },
  {
   "cell_type": "code",
   "execution_count": 24,
   "id": "18649539",
   "metadata": {},
   "outputs": [],
   "source": [
    "et_samples_df.set_index('timestamps', inplace=True)\n",
    "et_samples_df['is_fixation'] = et_samples_df['is_fixation'].astype(int)\n",
    "et_samples_df['fix_duration'] = (\n",
    "    et_samples_df\n",
    "    .groupby(['subject_id', 'block_id', 'trial_id'], as_index=False)\n",
    "    .is_fixation\n",
    "    .apply(\n",
    "        lambda x: x\n",
    "        .groupby((x != x.shift()).cumsum())\n",
    "        .transform(lambda x: (x.index[-1] - x.index[0]))\n",
    "    )\n",
    ").reset_index().set_index('timestamps').is_fixation"
   ]
  },
  {
   "cell_type": "code",
   "execution_count": 25,
   "id": "5c0790c2",
   "metadata": {},
   "outputs": [],
   "source": [
    "et_samples_df.loc[\n",
    "    (\n",
    "        (et_samples_df.is_fixation == 0) \n",
    "        & (et_samples_df.fix_duration<=0.03) \n",
    "        & (et_samples_df.fix_duration > 0)\n",
    "    ), 'is_fixation'\n",
    "] = 1"
   ]
  },
  {
   "cell_type": "code",
   "execution_count": 26,
   "id": "af795f40",
   "metadata": {},
   "outputs": [],
   "source": [
    "et_samples_df.loc[\n",
    "    (\n",
    "        (et_samples_df.is_fixation == 1) \n",
    "        & (et_samples_df.fix_duration<=0.03) \n",
    "        & (et_samples_df.fix_duration > 0)\n",
    "    ), 'is_fixation'\n",
    "] = 0"
   ]
  },
  {
   "cell_type": "markdown",
   "id": "1982ee6e",
   "metadata": {},
   "source": [
    "### Outlier detection"
   ]
  },
  {
   "cell_type": "code",
   "execution_count": 27,
   "id": "a8eb8df1",
   "metadata": {},
   "outputs": [
    {
     "name": "stderr",
     "output_type": "stream",
     "text": [
      "C:\\Users\\akeshava\\AppData\\Local\\Temp/ipykernel_18508/3113158506.py:4: FutureWarning: Support for multi-dimensional indexing (e.g. `obj[:, None]`) is deprecated and will be removed in a future version.  Convert to a numpy array before indexing instead.\n",
      "  angular_vel = angular_vel[:,None]\n"
     ]
    },
    {
     "data": {
      "text/plain": [
       "False    0.885604\n",
       "True     0.114396\n",
       "Name: isOutlierFix, dtype: float64"
      ]
     },
     "metadata": {},
     "output_type": "display_data"
    },
    {
     "data": {
      "text/plain": [
       "False    0.872365\n",
       "True     0.127635\n",
       "Name: isOutlierSac, dtype: float64"
      ]
     },
     "metadata": {},
     "output_type": "display_data"
    }
   ],
   "source": [
    "et_samples_df['fix_duration'] = (\n",
    "    et_samples_df\n",
    "    .groupby(['subject_id', 'block_id', 'trial_id'], as_index=False)\n",
    "    .is_fixation\n",
    "    .apply(\n",
    "        lambda x: x\n",
    "        .groupby((x != x.shift()).cumsum())\n",
    "        .transform(lambda x: (x.index[-1] - x.index[0]))\n",
    "    )\n",
    ").reset_index().set_index('timestamps').is_fixation\n",
    "et_samples_df['fix_group'] = (\n",
    "    et_samples_df\n",
    "    .groupby(['subject_id', 'block_id', 'trial_id'])\n",
    "    .is_fixation\n",
    "    .apply(lambda x: (x!=x.shift()).cumsum())\n",
    ")\n",
    "\n",
    "et_samples_df['isOutlierFix'] = (et_samples_df\n",
    "                              .query('is_fixation == True and fix_duration != 0')\n",
    "                              .fix_duration\n",
    "                              .transform(lambda x: x > simple_mad(x, 3.5))\n",
    "                             )\n",
    "\n",
    "et_samples_df['isOutlierSac'] = (et_samples_df\n",
    "                              .query('is_fixation == False and fix_duration != 0')\n",
    "                              .fix_duration\n",
    "                              .transform(lambda x: x > simple_mad(x, 3.5))\n",
    "                             )\n",
    "\n",
    "display(et_samples_df['isOutlierFix'].value_counts(normalize=True))\n",
    "display(et_samples_df['isOutlierSac'].value_counts(normalize=True))"
   ]
  },
  {
   "cell_type": "code",
   "execution_count": 28,
   "id": "64018219",
   "metadata": {
    "scrolled": false
   },
   "outputs": [
    {
     "name": "stdout",
     "output_type": "stream",
     "text": [
      "12.964398671795323\n"
     ]
    },
    {
     "name": "stderr",
     "output_type": "stream",
     "text": [
      "C:\\Users\\akeshava\\AppData\\Local\\Temp/ipykernel_18508/3113158506.py:26: FutureWarning: Support for multi-dimensional indexing (e.g. `obj[:, None]`) is deprecated and will be removed in a future version.  Convert to a numpy array before indexing instead.\n",
      "  angular_vel = angular_vel[:,None]\n"
     ]
    },
    {
     "data": {
      "image/png": "[encoded data removed]",
      "text/plain": [
       "<Figure size 1080x360 with 1 Axes>"
      ]
     },
     "metadata": {
      "needs_background": "light"
     },
     "output_type": "display_data"
    }
   ],
   "source": [
    "\n",
    "fig, ax = plt.subplots(1,1, figsize=(15, 5), sharey=True)\n",
    "t = et_samples_df.query('subject_id == \"M025\" and block_id==\"6\" and trial_id == 10')\n",
    "#display(t)\n",
    "thresh = at_mad(t.vel)\n",
    "print(thresh)\n",
    "t.plot(kind='line', x='time', y='vel', color='g', ax=ax)\n",
    "\n",
    "ax.axhline(thresh, color='grey')\n",
    "ax.set(ylim=(0,1000));\n",
    "#ax = t.plot(kind='line', x='time_from_start', y='vel', color='g', ax=ax)\n",
    "\n",
    "sns.despine(offset=10)"
   ]
  },
  {
   "cell_type": "code",
   "execution_count": 29,
   "id": "51d0b973",
   "metadata": {},
   "outputs": [
    {
     "data": {
      "text/plain": [
       "count    5.164088e+06\n",
       "mean     4.058561e+00\n",
       "std      2.346433e+00\n",
       "min      0.000000e+00\n",
       "25%      2.022024e+00\n",
       "50%      4.054038e+00\n",
       "75%      6.087019e+00\n",
       "max      8.130080e+00\n",
       "Name: time_from_start, dtype: float64"
      ]
     },
     "execution_count": 29,
     "metadata": {},
     "output_type": "execute_result"
    }
   ],
   "source": [
    "et_samples_df.time_from_start.describe()"
   ]
  },
  {
   "cell_type": "code",
   "execution_count": 30,
   "id": "c8aad371",
   "metadata": {},
   "outputs": [],
   "source": [
    "et_df = et_samples_df.query('time>=0')"
   ]
  },
  {
   "cell_type": "code",
   "execution_count": 48,
   "id": "2d904a59",
   "metadata": {},
   "outputs": [
    {
     "data": {
      "image/png": "[encoded data removed]",
      "text/plain": [
       "<Figure size 432x288 with 1 Axes>"
      ]
     },
     "metadata": {},
     "output_type": "display_data"
    }
   ],
   "source": [
    "s = et_df.groupby(['subject_id', 'block_id', 'trial_id']).taskObjectIsInHand.mean()\n",
    "ax = s.plot(kind='hist', bins=50)\n",
    "ax.set(title='distribution of hand moving the tool before beep');"
   ]
  },
  {
   "cell_type": "code",
   "execution_count": 31,
   "id": "bc5f5df9",
   "metadata": {},
   "outputs": [
    {
     "data": {
      "text/html": [
       "<div>\n",
       "<style scoped>\n",
       "    .dataframe tbody tr th:only-of-type {\n",
       "        vertical-align: middle;\n",
       "    }\n",
       "\n",
       "    .dataframe tbody tr th {\n",
       "        vertical-align: top;\n",
       "    }\n",
       "\n",
       "    .dataframe thead th {\n",
       "        text-align: right;\n",
       "    }\n",
       "</style>\n",
       "<table border=\"1\" class=\"dataframe\">\n",
       "  <thead>\n",
       "    <tr style=\"text-align: right;\">\n",
       "      <th></th>\n",
       "      <th>bad_trials</th>\n",
       "    </tr>\n",
       "    <tr>\n",
       "      <th>subject_id</th>\n",
       "      <th></th>\n",
       "    </tr>\n",
       "  </thead>\n",
       "  <tbody>\n",
       "    <tr>\n",
       "      <th>M006</th>\n",
       "      <td>0.0</td>\n",
       "    </tr>\n",
       "    <tr>\n",
       "      <th>M007</th>\n",
       "      <td>0.0</td>\n",
       "    </tr>\n",
       "    <tr>\n",
       "      <th>M008</th>\n",
       "      <td>0.0</td>\n",
       "    </tr>\n",
       "    <tr>\n",
       "      <th>M009</th>\n",
       "      <td>0.0</td>\n",
       "    </tr>\n",
       "    <tr>\n",
       "      <th>M010</th>\n",
       "      <td>0.0</td>\n",
       "    </tr>\n",
       "    <tr>\n",
       "      <th>M011</th>\n",
       "      <td>0.0</td>\n",
       "    </tr>\n",
       "    <tr>\n",
       "      <th>M012</th>\n",
       "      <td>0.0</td>\n",
       "    </tr>\n",
       "    <tr>\n",
       "      <th>M013</th>\n",
       "      <td>0.0</td>\n",
       "    </tr>\n",
       "    <tr>\n",
       "      <th>M014</th>\n",
       "      <td>0.0</td>\n",
       "    </tr>\n",
       "    <tr>\n",
       "      <th>M015</th>\n",
       "      <td>0.0</td>\n",
       "    </tr>\n",
       "    <tr>\n",
       "      <th>M016</th>\n",
       "      <td>0.0</td>\n",
       "    </tr>\n",
       "    <tr>\n",
       "      <th>M017</th>\n",
       "      <td>0.0</td>\n",
       "    </tr>\n",
       "    <tr>\n",
       "      <th>M018</th>\n",
       "      <td>0.0</td>\n",
       "    </tr>\n",
       "    <tr>\n",
       "      <th>M019</th>\n",
       "      <td>0.0</td>\n",
       "    </tr>\n",
       "    <tr>\n",
       "      <th>M020</th>\n",
       "      <td>0.0</td>\n",
       "    </tr>\n",
       "    <tr>\n",
       "      <th>M021</th>\n",
       "      <td>0.0</td>\n",
       "    </tr>\n",
       "    <tr>\n",
       "      <th>M022</th>\n",
       "      <td>0.0</td>\n",
       "    </tr>\n",
       "    <tr>\n",
       "      <th>M023</th>\n",
       "      <td>0.0</td>\n",
       "    </tr>\n",
       "    <tr>\n",
       "      <th>M024</th>\n",
       "      <td>0.0</td>\n",
       "    </tr>\n",
       "    <tr>\n",
       "      <th>M025</th>\n",
       "      <td>0.0</td>\n",
       "    </tr>\n",
       "    <tr>\n",
       "      <th>M026</th>\n",
       "      <td>0.0</td>\n",
       "    </tr>\n",
       "    <tr>\n",
       "      <th>M027</th>\n",
       "      <td>0.0</td>\n",
       "    </tr>\n",
       "    <tr>\n",
       "      <th>M028</th>\n",
       "      <td>0.0</td>\n",
       "    </tr>\n",
       "    <tr>\n",
       "      <th>M029</th>\n",
       "      <td>0.0</td>\n",
       "    </tr>\n",
       "    <tr>\n",
       "      <th>M030</th>\n",
       "      <td>0.0</td>\n",
       "    </tr>\n",
       "  </tbody>\n",
       "</table>\n",
       "</div>"
      ],
      "text/plain": [
       "            bad_trials\n",
       "subject_id            \n",
       "M006               0.0\n",
       "M007               0.0\n",
       "M008               0.0\n",
       "M009               0.0\n",
       "M010               0.0\n",
       "M011               0.0\n",
       "M012               0.0\n",
       "M013               0.0\n",
       "M014               0.0\n",
       "M015               0.0\n",
       "M016               0.0\n",
       "M017               0.0\n",
       "M018               0.0\n",
       "M019               0.0\n",
       "M020               0.0\n",
       "M021               0.0\n",
       "M022               0.0\n",
       "M023               0.0\n",
       "M024               0.0\n",
       "M025               0.0\n",
       "M026               0.0\n",
       "M027               0.0\n",
       "M028               0.0\n",
       "M029               0.0\n",
       "M030               0.0"
      ]
     },
     "execution_count": 31,
     "metadata": {},
     "output_type": "execute_result"
    }
   ],
   "source": [
    "(\n",
    "    et_df\n",
    "    .groupby(['subject_id', 'block_id', 'trial_id'])\n",
    "    .agg({'vel': lambda x: np.mean(pd.isnull(x))})\n",
    "    .reset_index()\n",
    "    .groupby(['subject_id',])\n",
    "    .agg({'vel': 'mean'})\n",
    "    .rename(columns={'vel':'bad_trials'})\n",
    ")"
   ]
  },
  {
   "cell_type": "code",
   "execution_count": 32,
   "id": "9414dd82",
   "metadata": {
    "scrolled": true
   },
   "outputs": [
    {
     "data": {
      "text/html": [
       "<div>\n",
       "<style scoped>\n",
       "    .dataframe tbody tr th:only-of-type {\n",
       "        vertical-align: middle;\n",
       "    }\n",
       "\n",
       "    .dataframe tbody tr th {\n",
       "        vertical-align: top;\n",
       "    }\n",
       "\n",
       "    .dataframe thead th {\n",
       "        text-align: right;\n",
       "    }\n",
       "</style>\n",
       "<table border=\"1\" class=\"dataframe\">\n",
       "  <thead>\n",
       "    <tr style=\"text-align: right;\">\n",
       "      <th></th>\n",
       "      <th>bad_trials</th>\n",
       "    </tr>\n",
       "    <tr>\n",
       "      <th>subject_id</th>\n",
       "      <th></th>\n",
       "    </tr>\n",
       "  </thead>\n",
       "  <tbody>\n",
       "    <tr>\n",
       "      <th>M006</th>\n",
       "      <td>0.0</td>\n",
       "    </tr>\n",
       "    <tr>\n",
       "      <th>M007</th>\n",
       "      <td>0.0</td>\n",
       "    </tr>\n",
       "    <tr>\n",
       "      <th>M008</th>\n",
       "      <td>0.0</td>\n",
       "    </tr>\n",
       "    <tr>\n",
       "      <th>M009</th>\n",
       "      <td>0.0</td>\n",
       "    </tr>\n",
       "    <tr>\n",
       "      <th>M010</th>\n",
       "      <td>0.0</td>\n",
       "    </tr>\n",
       "    <tr>\n",
       "      <th>M011</th>\n",
       "      <td>0.0</td>\n",
       "    </tr>\n",
       "    <tr>\n",
       "      <th>M012</th>\n",
       "      <td>0.0</td>\n",
       "    </tr>\n",
       "    <tr>\n",
       "      <th>M013</th>\n",
       "      <td>0.0</td>\n",
       "    </tr>\n",
       "    <tr>\n",
       "      <th>M014</th>\n",
       "      <td>0.0</td>\n",
       "    </tr>\n",
       "    <tr>\n",
       "      <th>M015</th>\n",
       "      <td>0.0</td>\n",
       "    </tr>\n",
       "    <tr>\n",
       "      <th>M016</th>\n",
       "      <td>0.0</td>\n",
       "    </tr>\n",
       "    <tr>\n",
       "      <th>M017</th>\n",
       "      <td>0.0</td>\n",
       "    </tr>\n",
       "    <tr>\n",
       "      <th>M018</th>\n",
       "      <td>0.0</td>\n",
       "    </tr>\n",
       "    <tr>\n",
       "      <th>M019</th>\n",
       "      <td>0.0</td>\n",
       "    </tr>\n",
       "    <tr>\n",
       "      <th>M020</th>\n",
       "      <td>0.0</td>\n",
       "    </tr>\n",
       "    <tr>\n",
       "      <th>M021</th>\n",
       "      <td>0.0</td>\n",
       "    </tr>\n",
       "    <tr>\n",
       "      <th>M022</th>\n",
       "      <td>0.0</td>\n",
       "    </tr>\n",
       "    <tr>\n",
       "      <th>M023</th>\n",
       "      <td>0.0</td>\n",
       "    </tr>\n",
       "    <tr>\n",
       "      <th>M024</th>\n",
       "      <td>0.0</td>\n",
       "    </tr>\n",
       "    <tr>\n",
       "      <th>M025</th>\n",
       "      <td>0.0</td>\n",
       "    </tr>\n",
       "    <tr>\n",
       "      <th>M026</th>\n",
       "      <td>0.0</td>\n",
       "    </tr>\n",
       "    <tr>\n",
       "      <th>M027</th>\n",
       "      <td>0.0</td>\n",
       "    </tr>\n",
       "    <tr>\n",
       "      <th>M028</th>\n",
       "      <td>0.0</td>\n",
       "    </tr>\n",
       "    <tr>\n",
       "      <th>M029</th>\n",
       "      <td>0.0</td>\n",
       "    </tr>\n",
       "    <tr>\n",
       "      <th>M030</th>\n",
       "      <td>0.0</td>\n",
       "    </tr>\n",
       "  </tbody>\n",
       "</table>\n",
       "</div>"
      ],
      "text/plain": [
       "            bad_trials\n",
       "subject_id            \n",
       "M006               0.0\n",
       "M007               0.0\n",
       "M008               0.0\n",
       "M009               0.0\n",
       "M010               0.0\n",
       "M011               0.0\n",
       "M012               0.0\n",
       "M013               0.0\n",
       "M014               0.0\n",
       "M015               0.0\n",
       "M016               0.0\n",
       "M017               0.0\n",
       "M018               0.0\n",
       "M019               0.0\n",
       "M020               0.0\n",
       "M021               0.0\n",
       "M022               0.0\n",
       "M023               0.0\n",
       "M024               0.0\n",
       "M025               0.0\n",
       "M026               0.0\n",
       "M027               0.0\n",
       "M028               0.0\n",
       "M029               0.0\n",
       "M030               0.0"
      ]
     },
     "execution_count": 32,
     "metadata": {},
     "output_type": "execute_result"
    }
   ],
   "source": [
    "(\n",
    "    et_df\n",
    "    .groupby(['subject_id', 'block_id', 'trial_id'])\n",
    "    .agg({'controllerPosition.x': lambda x: np.mean(pd.isnull(x))})\n",
    "    .reset_index()\n",
    "    .groupby(['subject_id',])\n",
    "    .agg({'controllerPosition.x': 'mean'})\n",
    "    .rename(columns={'controllerPosition.x':'bad_trials'})\n",
    ")"
   ]
  },
  {
   "cell_type": "code",
   "execution_count": 56,
   "id": "cd2034c1",
   "metadata": {
    "scrolled": true
   },
   "outputs": [
    {
     "data": {
      "image/png": "[encoded data removed]",
      "text/plain": [
       "<Figure size 432x288 with 1 Axes>"
      ]
     },
     "metadata": {},
     "output_type": "display_data"
    }
   ],
   "source": [
    "sns.set(context='talk', style='ticks')\n",
    "\n",
    "ax = (\n",
    "    et_samples_df\n",
    "    .query('is_fixation == 1 and isOutlierFix==0')\n",
    "    .fix_duration\n",
    "    .plot\n",
    "    .kde(color='r', label='fixation')\n",
    ")\n",
    "ax = (\n",
    "    et_samples_df\n",
    "    .query('is_fixation == 0 and isOutlierSac==0')\n",
    "    .fix_duration\n",
    "    .plot\n",
    "    .kde(color='g', label='saccade')\n",
    ")\n",
    "\n",
    "ax.set(\n",
    "    ylim=(0, 9),\n",
    "    xlim=(-0.01, 1), \n",
    "    xlabel='Duration (s)'\n",
    ")\n",
    "ax.legend(frameon=False)\n",
    "sns.despine(offset=10)"
   ]
  },
  {
   "cell_type": "code",
   "execution_count": 33,
   "id": "d06117ba",
   "metadata": {},
   "outputs": [
    {
     "name": "stdout",
     "output_type": "stream",
     "text": [
      "Fixation Duration\n"
     ]
    },
    {
     "data": {
      "text/plain": [
       "count    2.664415e+06\n",
       "mean     2.406921e-01\n",
       "std      1.649520e-01\n",
       "min      3.016606e-02\n",
       "25%      1.109941e-01\n",
       "50%      2.000070e-01\n",
       "75%      3.439950e-01\n",
       "max      6.979661e-01\n",
       "Name: fix_duration, dtype: float64"
      ]
     },
     "metadata": {},
     "output_type": "display_data"
    },
    {
     "name": "stdout",
     "output_type": "stream",
     "text": [
      "Saccade Duration\n"
     ]
    },
    {
     "data": {
      "text/plain": [
       "count    1.646731e+06\n",
       "mean     1.050543e-01\n",
       "std      6.913977e-02\n",
       "min      8.985005e-03\n",
       "25%      4.501124e-02\n",
       "50%      8.900357e-02\n",
       "75%      1.450002e-01\n",
       "max      2.900176e-01\n",
       "Name: fix_duration, dtype: float64"
      ]
     },
     "metadata": {},
     "output_type": "display_data"
    }
   ],
   "source": [
    "print('Fixation Duration')\n",
    "display(\n",
    "    et_samples_df\n",
    "    .query('is_fixation==1 and isOutlierFix==0')\n",
    "    .fix_duration\n",
    "    .describe()\n",
    ")\n",
    "\n",
    "print('Saccade Duration')\n",
    "display(\n",
    "    et_samples_df\n",
    "    .query('is_fixation==0 and isOutlierSac==0')\n",
    "    .fix_duration\n",
    "    .describe()\n",
    ")"
   ]
  },
  {
   "cell_type": "markdown",
   "id": "224e5aa4",
   "metadata": {},
   "source": [
    "### Fixation position of tool"
   ]
  },
  {
   "cell_type": "code",
   "execution_count": 34,
   "id": "3c13bbf5",
   "metadata": {},
   "outputs": [
    {
     "name": "stderr",
     "output_type": "stream",
     "text": [
      "C:\\Users\\akeshava\\AppData\\Local\\Temp/ipykernel_18508/2720264385.py:1: SettingWithCopyWarning: \n",
      "A value is trying to be set on a copy of a slice from a DataFrame.\n",
      "Try using .loc[row_indexer,col_indexer] = value instead\n",
      "\n",
      "See the caveats in the documentation: https://pandas.pydata.org/pandas-docs/stable/user_guide/indexing.html#returning-a-view-versus-a-copy\n",
      "  et_df['fixation_distance_fwd'] = (\n",
      "C:\\Users\\akeshava\\AppData\\Local\\Temp/ipykernel_18508/2720264385.py:6: SettingWithCopyWarning: \n",
      "A value is trying to be set on a copy of a slice from a DataFrame.\n",
      "Try using .loc[row_indexer,col_indexer] = value instead\n",
      "\n",
      "See the caveats in the documentation: https://pandas.pydata.org/pandas-docs/stable/user_guide/indexing.html#returning-a-view-versus-a-copy\n",
      "  et_df['fixation_distance_horz'] = (\n",
      "C:\\Users\\akeshava\\.conda\\envs\\conda_gti_eeg\\lib\\site-packages\\pandas\\core\\indexing.py:1773: SettingWithCopyWarning: \n",
      "A value is trying to be set on a copy of a slice from a DataFrame.\n",
      "Try using .loc[row_indexer,col_indexer] = value instead\n",
      "\n",
      "See the caveats in the documentation: https://pandas.pydata.org/pandas-docs/stable/user_guide/indexing.html#returning-a-view-versus-a-copy\n",
      "  self._setitem_single_column(ilocs[0], value, pi)\n"
     ]
    }
   ],
   "source": [
    "et_df['fixation_distance_fwd'] = (\n",
    "    et_df['targetHitPositionZ'] \n",
    "    - et_df['taskObjectPosition.z']\n",
    ")/(et_df['tool_x']/2)\n",
    "\n",
    "et_df['fixation_distance_horz'] = (\n",
    "    et_df['targetHitPositionX'] \n",
    "    - et_df['taskObjectPosition.x']\n",
    ")/(et_df['tool_z']/2)\n",
    "\n",
    "et_df.loc[et_df.orientation == 'left', 'fixation_distance_horz'] = -1 * (\n",
    "    et_df\n",
    "    .loc[\n",
    "        et_df.orientation == 'left', 'fixation_distance_horz'\n",
    "    ]\n",
    ")"
   ]
  },
  {
   "cell_type": "code",
   "execution_count": 35,
   "id": "764abd01",
   "metadata": {},
   "outputs": [
    {
     "name": "stderr",
     "output_type": "stream",
     "text": [
      "C:\\Users\\akeshava\\AppData\\Local\\Temp/ipykernel_18508/2855707850.py:1: SettingWithCopyWarning: \n",
      "A value is trying to be set on a copy of a slice from a DataFrame.\n",
      "Try using .loc[row_indexer,col_indexer] = value instead\n",
      "\n",
      "See the caveats in the documentation: https://pandas.pydata.org/pandas-docs/stable/user_guide/indexing.html#returning-a-view-versus-a-copy\n",
      "  et_df['fix_in_tool'] = False\n",
      "C:\\Users\\akeshava\\.conda\\envs\\conda_gti_eeg\\lib\\site-packages\\pandas\\core\\indexing.py:1817: SettingWithCopyWarning: \n",
      "A value is trying to be set on a copy of a slice from a DataFrame.\n",
      "Try using .loc[row_indexer,col_indexer] = value instead\n",
      "\n",
      "See the caveats in the documentation: https://pandas.pydata.org/pandas-docs/stable/user_guide/indexing.html#returning-a-view-versus-a-copy\n",
      "  self._setitem_single_column(loc, value, pi)\n"
     ]
    }
   ],
   "source": [
    "et_df['fix_in_tool'] = False\n",
    "et_df.loc[\n",
    "    (\n",
    "        (et_df.fixation_distance_horz >= -1.2)\n",
    "        & (et_df.fixation_distance_horz <= 1.2)\n",
    "        & (et_df.fixation_distance_fwd >= -1.2)\n",
    "        & (et_df.fixation_distance_fwd <= 1.2)\n",
    "    ), 'fix_in_tool'\n",
    "] = True"
   ]
  },
  {
   "cell_type": "code",
   "execution_count": 36,
   "id": "86bd505c",
   "metadata": {},
   "outputs": [
    {
     "data": {
      "text/plain": [
       "True     0.635181\n",
       "False    0.364819\n",
       "Name: fix_in_tool, dtype: float64"
      ]
     },
     "execution_count": 36,
     "metadata": {},
     "output_type": "execute_result"
    }
   ],
   "source": [
    "et_df.fix_in_tool.value_counts(normalize=True)"
   ]
  },
  {
   "cell_type": "code",
   "execution_count": 61,
   "id": "0810bbca",
   "metadata": {
    "scrolled": false
   },
   "outputs": [
    {
     "name": "stdout",
     "output_type": "stream",
     "text": [
      "Relative Distance statistics\n"
     ]
    },
    {
     "data": {
      "text/plain": [
       "count    1.379328e+06\n",
       "mean     1.152467e-01\n",
       "std      2.883638e-01\n",
       "min     -1.198863e+00\n",
       "25%     -7.141236e-02\n",
       "50%      7.854184e-02\n",
       "75%      3.344544e-01\n",
       "max      1.199550e+00\n",
       "Name: fixation_distance_horz, dtype: float64"
      ]
     },
     "metadata": {},
     "output_type": "display_data"
    },
    {
     "data": {
      "image/png": "[encoded data removed]",
      "text/plain": [
       "<Figure size 432x288 with 1 Axes>"
      ]
     },
     "metadata": {},
     "output_type": "display_data"
    }
   ],
   "source": [
    "sns.set(context='talk', style='ticks')\n",
    "print('Relative Distance statistics')\n",
    "display(\n",
    "    et_df\n",
    "    .query('fix_in_tool == True')\n",
    "    ['fixation_distance_horz']\n",
    "    .describe()\n",
    ")\n",
    "ax = (\n",
    "    et_df\n",
    "    .query('fix_in_tool == True')\n",
    "    ['fixation_distance_horz']\n",
    "    .plot\n",
    "    .kde()\n",
    ")\n",
    "\n",
    "ax.axvline(0, ls='--', c='grey')\n",
    "ax.text(0.05, 0.05, 'tool center', color='grey', rotation=90)\n",
    "ax.set(\n",
    "    ylim=(0, 2),\n",
    "    xlim=(-1, 1), \n",
    "    xlabel='\\n Relative Distance of Fixations from Tool Center (a.u) \\n\\n <<Handle                         Effector>>'\n",
    ")\n",
    "sns.despine(offset=10)"
   ]
  },
  {
   "cell_type": "markdown",
   "id": "b74eb0c6",
   "metadata": {},
   "source": [
    "## Results"
   ]
  },
  {
   "cell_type": "markdown",
   "id": "4a5ad298",
   "metadata": {},
   "source": [
    "### Relative distance of fixation from tool center"
   ]
  },
  {
   "cell_type": "code",
   "execution_count": 41,
   "id": "ef8c1103",
   "metadata": {},
   "outputs": [
    {
     "name": "stderr",
     "output_type": "stream",
     "text": [
      "C:\\Users\\akeshava\\AppData\\Local\\Temp/ipykernel_18508/521291999.py:2: SettingWithCopyWarning: \n",
      "A value is trying to be set on a copy of a slice from a DataFrame.\n",
      "Try using .loc[row_indexer,col_indexer] = value instead\n",
      "\n",
      "See the caveats in the documentation: https://pandas.pydata.org/pandas-docs/stable/user_guide/indexing.html#returning-a-view-versus-a-copy\n",
      "  et_df['time_bin'] = pd.cut(\n"
     ]
    },
    {
     "data": {
      "text/html": [
       "<div>\n",
       "<style scoped>\n",
       "    .dataframe tbody tr th:only-of-type {\n",
       "        vertical-align: middle;\n",
       "    }\n",
       "\n",
       "    .dataframe tbody tr th {\n",
       "        vertical-align: top;\n",
       "    }\n",
       "\n",
       "    .dataframe thead th {\n",
       "        text-align: right;\n",
       "    }\n",
       "</style>\n",
       "<table border=\"1\" class=\"dataframe\">\n",
       "  <thead>\n",
       "    <tr style=\"text-align: right;\">\n",
       "      <th></th>\n",
       "      <th>subject_id</th>\n",
       "      <th>task</th>\n",
       "      <th>orientation</th>\n",
       "      <th>familiarity</th>\n",
       "      <th>time_bin</th>\n",
       "      <th>fixation_distance_horz</th>\n",
       "      <th>fix_duration</th>\n",
       "    </tr>\n",
       "  </thead>\n",
       "  <tbody>\n",
       "    <tr>\n",
       "      <th>0</th>\n",
       "      <td>M006</td>\n",
       "      <td>lift</td>\n",
       "      <td>left</td>\n",
       "      <td>familiar</td>\n",
       "      <td>0.2</td>\n",
       "      <td>0.035241</td>\n",
       "      <td>0.225430</td>\n",
       "    </tr>\n",
       "    <tr>\n",
       "      <th>1</th>\n",
       "      <td>M006</td>\n",
       "      <td>lift</td>\n",
       "      <td>left</td>\n",
       "      <td>familiar</td>\n",
       "      <td>0.4</td>\n",
       "      <td>0.055621</td>\n",
       "      <td>0.157999</td>\n",
       "    </tr>\n",
       "    <tr>\n",
       "      <th>2</th>\n",
       "      <td>M006</td>\n",
       "      <td>lift</td>\n",
       "      <td>left</td>\n",
       "      <td>familiar</td>\n",
       "      <td>0.6</td>\n",
       "      <td>-0.032409</td>\n",
       "      <td>0.085399</td>\n",
       "    </tr>\n",
       "    <tr>\n",
       "      <th>3</th>\n",
       "      <td>M006</td>\n",
       "      <td>lift</td>\n",
       "      <td>left</td>\n",
       "      <td>familiar</td>\n",
       "      <td>0.8</td>\n",
       "      <td>-0.049350</td>\n",
       "      <td>0.151431</td>\n",
       "    </tr>\n",
       "    <tr>\n",
       "      <th>4</th>\n",
       "      <td>M006</td>\n",
       "      <td>lift</td>\n",
       "      <td>left</td>\n",
       "      <td>familiar</td>\n",
       "      <td>1.0</td>\n",
       "      <td>-0.047411</td>\n",
       "      <td>0.160690</td>\n",
       "    </tr>\n",
       "  </tbody>\n",
       "</table>\n",
       "</div>"
      ],
      "text/plain": [
       "  subject_id  task orientation familiarity time_bin  fixation_distance_horz  \\\n",
       "0       M006  lift        left    familiar      0.2                0.035241   \n",
       "1       M006  lift        left    familiar      0.4                0.055621   \n",
       "2       M006  lift        left    familiar      0.6               -0.032409   \n",
       "3       M006  lift        left    familiar      0.8               -0.049350   \n",
       "4       M006  lift        left    familiar      1.0               -0.047411   \n",
       "\n",
       "   fix_duration  \n",
       "0      0.225430  \n",
       "1      0.157999  \n",
       "2      0.085399  \n",
       "3      0.151431  \n",
       "4      0.160690  "
      ]
     },
     "metadata": {},
     "output_type": "display_data"
    },
    {
     "name": "stderr",
     "output_type": "stream",
     "text": [
      "C:\\Users\\akeshava\\.conda\\envs\\conda_gti_eeg\\lib\\site-packages\\pandas\\io\\formats\\format.py:1429: FutureWarning: Index.ravel returning ndarray is deprecated; in a future version this will return a view on self.\n",
      "  for val, m in zip(values.ravel(), mask.ravel())\n"
     ]
    },
    {
     "data": {
      "text/plain": [
       "[0.2, 0.4, 0.8, 0.6, 1.2, ..., 3.2, 3.4, 3.6, 3.8, 4.0]\n",
       "Length: 20\n",
       "Categories (20, float64): [0.2 < 0.4 < 0.6 < 0.8 ... 3.4 < 3.6 < 3.8 < 4.0]"
      ]
     },
     "execution_count": 41,
     "metadata": {},
     "output_type": "execute_result"
    }
   ],
   "source": [
    "bin_size=0.2\n",
    "et_df['time_bin'] = pd.cut(\n",
    "            et_df.time,\n",
    "            bins=np.arange(0, 4 + bin_size, bin_size),\n",
    "            labels=np.arange(\n",
    "                0 + bin_size,\n",
    "                4 + bin_size,\n",
    "                bin_size\n",
    "            )\n",
    ")\n",
    "\n",
    "reject_subs=['M001', 'M002', 'M003', 'M004', 'M005']\n",
    "\n",
    "tmp = (\n",
    "    et_df\n",
    "    .query('subject_id not in @reject_subs')\n",
    "    .query('fix_in_tool == True ')\n",
    "    .query('is_fixation == 1 and fix_duration>=0.05 and isOutlierFix==False')\n",
    "    .groupby(['subject_id', 'block_id', 'trial_id', 'task', 'orientation', 'familiarity', 'time_bin'])\n",
    "    .agg({'fixation_distance_horz':np.nanmedian, 'fix_duration': 'median'})\n",
    "    .reset_index()\n",
    "    .groupby(['subject_id', 'task', 'orientation', 'familiarity', 'time_bin'])\n",
    "    .agg({'fixation_distance_horz':'mean', 'fix_duration': 'mean'})\n",
    "    .reset_index()\n",
    ")\n",
    "\n",
    "display(tmp.head())\n",
    "tmp.loc[pd.isnull(tmp.fixation_distance_horz), 'time_bin'].unique()"
   ]
  },
  {
   "cell_type": "code",
   "execution_count": null,
   "id": "95c2f209",
   "metadata": {},
   "outputs": [],
   "source": [
    "tmp.isna().mean()"
   ]
  },
  {
   "cell_type": "code",
   "execution_count": 57,
   "id": "1f575549",
   "metadata": {
    "scrolled": false
   },
   "outputs": [
    {
     "name": "stderr",
     "output_type": "stream",
     "text": [
      "C:\\Users\\akeshava\\AppData\\Local\\Temp/ipykernel_18508/1472733941.py:45: UserWarning: FixedFormatter should only be used together with FixedLocator\n",
      "  ax[0].set(\n",
      "C:\\Users\\akeshava\\AppData\\Local\\Temp/ipykernel_18508/1472733941.py:52: UserWarning: FixedFormatter should only be used together with FixedLocator\n",
      "  ax[1].set(\n"
     ]
    },
    {
     "data": {
      "image/png": "[encoded data removed]",
      "text/plain": [
       "<Figure size 864x648 with 2 Axes>"
      ]
     },
     "metadata": {},
     "output_type": "display_data"
    }
   ],
   "source": [
    "fig, ax = plt.subplots(2, 1, figsize=(12, 9), sharex=True, sharey=True)\n",
    "\n",
    "sns.set(\n",
    "    palette='muted', \n",
    "    context='talk', \n",
    "    style='ticks', \n",
    "    rc={'font.family':'DejaVu Sans', 'font.weight':'medium'}\n",
    ")\n",
    "\n",
    "sns.lineplot( \n",
    "    data=tmp.query('orientation == \"right\"'),\n",
    "    x='time_bin',\n",
    "    y='fixation_distance_horz',\n",
    "    style='task',\n",
    "    style_order=['use', 'lift',],\n",
    "    hue='familiarity',\n",
    "    hue_order=['familiar', 'unfamiliar'],\n",
    "    palette=['b', 'r'],\n",
    "    ax=ax[0],\n",
    "    ci=68,\n",
    ")\n",
    "sns.lineplot( \n",
    "    data=tmp.query('orientation == \"left\"'),\n",
    "    x='time_bin',\n",
    "    y='fixation_distance_horz',\n",
    "    style='task',\n",
    "    style_order=['use', 'lift',],\n",
    "    hue='familiarity',\n",
    "    hue_order=['familiar', 'unfamiliar'],\n",
    "    palette=['b', 'r'],\n",
    "    ax=ax[1],\n",
    "    ci=68,\n",
    ");\n",
    "\n",
    "ax[0].axhline(0, ls='--', color='grey')\n",
    "ax[1].axhline(0, ls='--', color='grey')\n",
    "\n",
    "ax[0].axvline(3.0, ls='--', color='grey')\n",
    "ax[1].axvline(3.0, ls='--', color='grey')\n",
    "ax[0].text(3.1, -0.18, 'Go Cue', {'color': 'darkgrey', 'fontsize': 20}, rotation=90,)\n",
    "ax[1].text(3.1, -0.18, 'Go Cue', {'color': 'darkgrey', 'fontsize': 20}, rotation=90,)\n",
    "\n",
    "\n",
    "\n",
    "ax[0].set(\n",
    "    ylim=(-0.2, 0.4),\n",
    "    xticklabels=np.arange(0, 4, 0.5),\n",
    "    xlim=(0, 3.5),\n",
    "    ylabel='Right Handle Orientation \\n Distance from center ',\n",
    "    \n",
    ")\n",
    "ax[1].set(\n",
    "    ylim=(-0.2, 0.4),\n",
    "    xticklabels=np.arange(0, 4.1, 0.5),\n",
    "    xlim=(0, 4),\n",
    "    ylabel='Left Handle Orientation \\n Distance from center',\n",
    "    xlabel='Time from tool presentation (s)'\n",
    ")\n",
    "ax[0].legend(frameon=False, bbox_to_anchor=(1, 0.8), ncol=1)\n",
    "ax[1].legend(frameon=False, bbox_to_anchor=(1, 0.8), ncol=1)\n",
    "sns.despine(offset=10)\n",
    "for axis in ['top','bottom','left','right']:\n",
    "        ax[0].spines[axis].set_linewidth(1)\n",
    "        ax[0].tick_params(width=1)\n",
    "        \n",
    "        ax[1].spines[axis].set_linewidth(1)\n",
    "        ax[1].tick_params(width=1)\n",
    "\n",
    "plt.savefig(f'./distance_from_center.pdf', bbox_inches='tight')"
   ]
  },
  {
   "cell_type": "markdown",
   "id": "6c30a8e2",
   "metadata": {},
   "source": [
    "### Order of fixation and its position on tool"
   ]
  },
  {
   "cell_type": "code",
   "execution_count": 59,
   "id": "2eeac6da",
   "metadata": {
    "scrolled": false
   },
   "outputs": [
    {
     "data": {
      "image/png": "[encoded data removed]",
      "text/plain": [
       "<Figure size 806.025x720 with 4 Axes>"
      ]
     },
     "metadata": {},
     "output_type": "display_data"
    }
   ],
   "source": [
    "reject_subs=['M001', 'M002', 'M003', 'M004', 'M005']\n",
    "tmp1 = (\n",
    "    et_df\n",
    "    .query('fix_in_tool == True ')\n",
    "    .query('is_fixation == 1 and fix_duration>=0.05 and isOutlierFix == False')\n",
    "    .query('subject_id not in @reject_subs')\n",
    "    .groupby(['subject_id', 'block_id', 'trial_id', 'task', 'familiarity', 'orientation', 'fix_group'])\n",
    "    .agg({'fixation_distance_horz':np.nanmedian, 'fix_duration': 'median'})\n",
    "    .reset_index()\n",
    "    \n",
    ")\n",
    "tmp1['fix_order'] = (\n",
    "    tmp1\n",
    "    .groupby(['subject_id', 'block_id', 'trial_id',])\n",
    "    .cumcount()+1\n",
    ")\n",
    "\n",
    "#display(\n",
    "#    tmp1\n",
    "#    .groupby(['subject_id', 'block_id','trial_id'])\n",
    "#    .fix_order\n",
    "#    .nunique()\n",
    "#    .reset_index()\n",
    "#    .groupby(['subject_id'])\n",
    "#    .fix_order\n",
    "#    .agg(['mean', 'std'])\n",
    "#    .reset_index()\n",
    "#)\n",
    "\n",
    "\n",
    "tmp1 = (\n",
    "    tmp1\n",
    "    .query('fix_order <= 3')\n",
    "    .groupby(['subject_id', 'task', 'orientation', 'familiarity', 'fix_order'])\n",
    "    .agg({'fixation_distance_horz':'mean', 'fix_duration': 'mean'})\n",
    "    .reset_index()\n",
    ")\n",
    "\n",
    "tmp1['fix_order'] = tmp1.fix_order.astype(str)\n",
    "\n",
    "sns.set(style='ticks', context='talk')\n",
    "\n",
    "g = sns.catplot(\n",
    "    kind='point',\n",
    "    data=tmp1,\n",
    "    y='fix_order',\n",
    "    x='fixation_distance_horz',\n",
    "    hue='task',\n",
    "    palette=['r', 'b'],\n",
    "    col='familiarity',\n",
    "    col_order=['familiar', 'unfamiliar'],\n",
    "    row='orientation',\n",
    "    row_order=['right', 'left'],\n",
    "    dodge=0.2,\n",
    "    ci=68,\n",
    "    \n",
    ");\n",
    "\n",
    "sns.despine(offset=10)\n",
    "\n",
    "titles=['Familiar | Right',  'Unfamiliar | Right', 'Familiar | Left', 'Unfamilar | Left']\n",
    "for idx, (ax, tit) in enumerate(zip(g.axes.flat, titles)):\n",
    "    ax.axvline(0, ls='--', color='grey', lw=2, alpha=0.7)\n",
    "    ax.set_title(tit)\n",
    "    ax.set(\n",
    "        xlim=(-0.2, 0.4),\n",
    "        xticks=np.arange(-0.2, 0.41, 0.1)\n",
    "    )\n",
    "    sns.despine(offset=10)\n",
    "    if idx in [2,3]:\n",
    "        ax.set(xlabel='Distance from center')\n",
    "    if idx in [0,2]:\n",
    "        ax.set(ylabel='Order of fixation')\n",
    "    for axis in ['top','bottom','left','right']:\n",
    "        ax.spines[axis].set_linewidth(1)\n",
    "        ax.tick_params(width=1)\n",
    "    \n",
    "plt.savefig(f'./distance_from_center_fixation_order.pdf', bbox_inches='tight')"
   ]
  },
  {
   "cell_type": "code",
   "execution_count": 67,
   "id": "d5a7f6d7",
   "metadata": {},
   "outputs": [
    {
     "data": {
      "text/html": [
       "<div>\n",
       "<style scoped>\n",
       "    .dataframe tbody tr th:only-of-type {\n",
       "        vertical-align: middle;\n",
       "    }\n",
       "\n",
       "    .dataframe tbody tr th {\n",
       "        vertical-align: top;\n",
       "    }\n",
       "\n",
       "    .dataframe thead th {\n",
       "        text-align: right;\n",
       "    }\n",
       "</style>\n",
       "<table border=\"1\" class=\"dataframe\">\n",
       "  <thead>\n",
       "    <tr style=\"text-align: right;\">\n",
       "      <th></th>\n",
       "      <th></th>\n",
       "      <th></th>\n",
       "      <th></th>\n",
       "      <th>mean</th>\n",
       "      <th>std</th>\n",
       "    </tr>\n",
       "    <tr>\n",
       "      <th>task</th>\n",
       "      <th>familiarity</th>\n",
       "      <th>orientation</th>\n",
       "      <th>fix_order</th>\n",
       "      <th></th>\n",
       "      <th></th>\n",
       "    </tr>\n",
       "  </thead>\n",
       "  <tbody>\n",
       "    <tr>\n",
       "      <th rowspan=\"12\" valign=\"top\">lift</th>\n",
       "      <th rowspan=\"6\" valign=\"top\">familiar</th>\n",
       "      <th rowspan=\"3\" valign=\"top\">left</th>\n",
       "      <th>1</th>\n",
       "      <td>-0.022209</td>\n",
       "      <td>0.127228</td>\n",
       "    </tr>\n",
       "    <tr>\n",
       "      <th>2</th>\n",
       "      <td>0.010142</td>\n",
       "      <td>0.110276</td>\n",
       "    </tr>\n",
       "    <tr>\n",
       "      <th>3</th>\n",
       "      <td>-0.005361</td>\n",
       "      <td>0.134322</td>\n",
       "    </tr>\n",
       "    <tr>\n",
       "      <th rowspan=\"3\" valign=\"top\">right</th>\n",
       "      <th>1</th>\n",
       "      <td>0.116300</td>\n",
       "      <td>0.105609</td>\n",
       "    </tr>\n",
       "    <tr>\n",
       "      <th>2</th>\n",
       "      <td>0.146326</td>\n",
       "      <td>0.118200</td>\n",
       "    </tr>\n",
       "    <tr>\n",
       "      <th>3</th>\n",
       "      <td>0.180103</td>\n",
       "      <td>0.088527</td>\n",
       "    </tr>\n",
       "    <tr>\n",
       "      <th rowspan=\"6\" valign=\"top\">unfamiliar</th>\n",
       "      <th rowspan=\"3\" valign=\"top\">left</th>\n",
       "      <th>1</th>\n",
       "      <td>0.010183</td>\n",
       "      <td>0.107886</td>\n",
       "    </tr>\n",
       "    <tr>\n",
       "      <th>2</th>\n",
       "      <td>0.033104</td>\n",
       "      <td>0.134421</td>\n",
       "    </tr>\n",
       "    <tr>\n",
       "      <th>3</th>\n",
       "      <td>0.028067</td>\n",
       "      <td>0.176844</td>\n",
       "    </tr>\n",
       "    <tr>\n",
       "      <th rowspan=\"3\" valign=\"top\">right</th>\n",
       "      <th>1</th>\n",
       "      <td>0.163720</td>\n",
       "      <td>0.118033</td>\n",
       "    </tr>\n",
       "    <tr>\n",
       "      <th>2</th>\n",
       "      <td>0.213855</td>\n",
       "      <td>0.120349</td>\n",
       "    </tr>\n",
       "    <tr>\n",
       "      <th>3</th>\n",
       "      <td>0.210527</td>\n",
       "      <td>0.112693</td>\n",
       "    </tr>\n",
       "    <tr>\n",
       "      <th rowspan=\"12\" valign=\"top\">use</th>\n",
       "      <th rowspan=\"6\" valign=\"top\">familiar</th>\n",
       "      <th rowspan=\"3\" valign=\"top\">left</th>\n",
       "      <th>1</th>\n",
       "      <td>0.001807</td>\n",
       "      <td>0.128079</td>\n",
       "    </tr>\n",
       "    <tr>\n",
       "      <th>2</th>\n",
       "      <td>0.038675</td>\n",
       "      <td>0.125715</td>\n",
       "    </tr>\n",
       "    <tr>\n",
       "      <th>3</th>\n",
       "      <td>0.042984</td>\n",
       "      <td>0.143633</td>\n",
       "    </tr>\n",
       "    <tr>\n",
       "      <th rowspan=\"3\" valign=\"top\">right</th>\n",
       "      <th>1</th>\n",
       "      <td>0.093320</td>\n",
       "      <td>0.211568</td>\n",
       "    </tr>\n",
       "    <tr>\n",
       "      <th>2</th>\n",
       "      <td>0.176783</td>\n",
       "      <td>0.118401</td>\n",
       "    </tr>\n",
       "    <tr>\n",
       "      <th>3</th>\n",
       "      <td>0.179268</td>\n",
       "      <td>0.096472</td>\n",
       "    </tr>\n",
       "    <tr>\n",
       "      <th rowspan=\"6\" valign=\"top\">unfamiliar</th>\n",
       "      <th rowspan=\"3\" valign=\"top\">left</th>\n",
       "      <th>1</th>\n",
       "      <td>0.067504</td>\n",
       "      <td>0.139271</td>\n",
       "    </tr>\n",
       "    <tr>\n",
       "      <th>2</th>\n",
       "      <td>0.140956</td>\n",
       "      <td>0.142729</td>\n",
       "    </tr>\n",
       "    <tr>\n",
       "      <th>3</th>\n",
       "      <td>0.143020</td>\n",
       "      <td>0.157588</td>\n",
       "    </tr>\n",
       "    <tr>\n",
       "      <th rowspan=\"3\" valign=\"top\">right</th>\n",
       "      <th>1</th>\n",
       "      <td>0.193676</td>\n",
       "      <td>0.121318</td>\n",
       "    </tr>\n",
       "    <tr>\n",
       "      <th>2</th>\n",
       "      <td>0.244855</td>\n",
       "      <td>0.102952</td>\n",
       "    </tr>\n",
       "    <tr>\n",
       "      <th>3</th>\n",
       "      <td>0.281557</td>\n",
       "      <td>0.091773</td>\n",
       "    </tr>\n",
       "  </tbody>\n",
       "</table>\n",
       "</div>"
      ],
      "text/plain": [
       "                                            mean       std\n",
       "task familiarity orientation fix_order                    \n",
       "lift familiar    left        1         -0.022209  0.127228\n",
       "                             2          0.010142  0.110276\n",
       "                             3         -0.005361  0.134322\n",
       "                 right       1          0.116300  0.105609\n",
       "                             2          0.146326  0.118200\n",
       "                             3          0.180103  0.088527\n",
       "     unfamiliar  left        1          0.010183  0.107886\n",
       "                             2          0.033104  0.134421\n",
       "                             3          0.028067  0.176844\n",
       "                 right       1          0.163720  0.118033\n",
       "                             2          0.213855  0.120349\n",
       "                             3          0.210527  0.112693\n",
       "use  familiar    left        1          0.001807  0.128079\n",
       "                             2          0.038675  0.125715\n",
       "                             3          0.042984  0.143633\n",
       "                 right       1          0.093320  0.211568\n",
       "                             2          0.176783  0.118401\n",
       "                             3          0.179268  0.096472\n",
       "     unfamiliar  left        1          0.067504  0.139271\n",
       "                             2          0.140956  0.142729\n",
       "                             3          0.143020  0.157588\n",
       "                 right       1          0.193676  0.121318\n",
       "                             2          0.244855  0.102952\n",
       "                             3          0.281557  0.091773"
      ]
     },
     "execution_count": 67,
     "metadata": {},
     "output_type": "execute_result"
    }
   ],
   "source": [
    "## Statistics of distance of fixation based on order for fixation\n",
    "(\n",
    "    tmp1\n",
    "    .groupby(['task', 'familiarity', 'orientation', 'fix_order'])\n",
    "    .fixation_distance_horz\n",
    "    .agg(['mean', 'std'])\n",
    ")"
   ]
  },
  {
   "cell_type": "markdown",
   "id": "b220c87e",
   "metadata": {},
   "source": [
    "### Frame rate per subject"
   ]
  },
  {
   "cell_type": "code",
   "execution_count": 86,
   "id": "f2aa0747",
   "metadata": {},
   "outputs": [
    {
     "data": {
      "image/png": "[encoded data removed]",
      "text/plain": [
       "<Figure size 720x360 with 1 Axes>"
      ]
     },
     "metadata": {},
     "output_type": "display_data"
    }
   ],
   "source": [
    "tmp = (\n",
    "    et_samples_df\n",
    "    .reset_index()\n",
    "    .groupby(['subject_id', 'block_id', 'trial_id'])\n",
    "    .timestamps\n",
    "    .apply(lambda x: 1/np.mean(x - x.shift(1)))\n",
    "    .reset_index()\n",
    "    .groupby(['subject_id', 'block_id'])\n",
    "    .timestamps\n",
    "    .mean()\n",
    "    .reset_index()\n",
    ")\n",
    "\n",
    "fig, ax = plt.subplots(figsize=(10, 5))\n",
    "ax = sns.pointplot(\n",
    "    data=tmp,\n",
    "    x='subject_id',\n",
    "    y='timestamps',\n",
    "    ci=95\n",
    ")\n",
    "\n",
    "ax.set(\n",
    "    ylim=(80, 100),\n",
    "    yticks=np.arange(80, 101, 5),\n",
    "    xticklabels=np.arange(0, 25, 1),\n",
    "    #xlim=(0, 24),\n",
    "    xlabel='Subject Number',\n",
    "    ylabel='Eye Tracking \\n Sampling Frequency (Hz)'\n",
    "    \n",
    ")\n",
    "sns.despine(offset=10)"
   ]
  },
  {
   "cell_type": "markdown",
   "id": "aacd8d85",
   "metadata": {},
   "source": [
    "### Pilot Data  checks"
   ]
  },
  {
   "cell_type": "code",
   "execution_count": null,
   "id": "2f30b1ae",
   "metadata": {},
   "outputs": [],
   "source": [
    "fig, ax = plt.subplots(2, 2, figsize=(12, 6), sharex=True, sharey=True)\n",
    "\n",
    "ax[0] = sns.pointplot(\n",
    "    data=tmp.query('orientation == \"left\"'), \n",
    "    x='fix_order',\n",
    "    y='fixation_distance_horz',\n",
    "    hue='task',\n",
    "    ax=ax[0]\n",
    ")\n",
    "ax[1] = sns.pointplot(\n",
    "    data=tmp.query('orientation == \"right\"'), \n",
    "    x='fix_order',\n",
    "    y='fixation_distance_horz',\n",
    "    hue='task',\n",
    "    ax=ax[1]\n",
    ")"
   ]
  },
  {
   "cell_type": "code",
   "execution_count": null,
   "id": "70adc3ff",
   "metadata": {},
   "outputs": [],
   "source": [
    "fig, ax = plt.subplots(figsize=(8,8))\n",
    "ax = sns.scatterplot(\n",
    "    data=tmp.query('orientation == \"right\"'), \n",
    "    x='fix_order', \n",
    "    y='fixation_distance_horz', \n",
    "    #size='fix_duration', \n",
    "    hue='familiarity',\n",
    "    #sizes=(20, 200),\n",
    ")\n",
    "ax.legend(bbox_to_anchor=[1.3,1])\n",
    "ax.set(ylim=(-0.5, 0.5))"
   ]
  },
  {
   "cell_type": "code",
   "execution_count": null,
   "id": "3211e95b",
   "metadata": {},
   "outputs": [],
   "source": [
    "fig, ax = plt.subplots(figsize=(8,8))\n",
    "ax = sns.scatterplot(\n",
    "    data=tmp.query('familiarity==\"unfamiliar\" and fix_order <=3'), \n",
    "    x='fix_order', \n",
    "    y='fixation_distance', \n",
    "    size='fix_duration', \n",
    "    sizes=(20, 200),\n",
    "    hue='fix_order'\n",
    ")\n",
    "ax.legend(bbox_to_anchor=[1.33,1])\n",
    "ax.set(ylim=(-0.5, 0.5))"
   ]
  },
  {
   "cell_type": "code",
   "execution_count": null,
   "id": "d62f2a19",
   "metadata": {},
   "outputs": [],
   "source": [
    "et_samples_df.columns"
   ]
  },
  {
   "cell_type": "code",
   "execution_count": null,
   "id": "d027286f",
   "metadata": {},
   "outputs": [],
   "source": [
    "et_samples_df['head_distance'] = np.sqrt(\n",
    "    (et_samples_df['hmdPos.x'] - et_samples_df['taskObjectPosition.x'])**2\n",
    "    +(et_samples_df['hmdPos.y'] - et_samples_df['taskObjectPosition.y'])**2\n",
    "    +(et_samples_df['hmdPos.z'] - et_samples_df['taskObjectPosition.z'])**2\n",
    ")"
   ]
  },
  {
   "cell_type": "code",
   "execution_count": null,
   "id": "5ad7c754",
   "metadata": {},
   "outputs": [],
   "source": [
    "block1\n",
    "block2\n",
    "block3\n",
    "\n",
    "samples_df = pd.DataFrame() # should have data from all trials and all blocks from one subject\n",
    "\n",
    "def create_dataframe(data, timestamps):\n",
    "    '''\n",
    "    function to create dataframe\n",
    "    '''\n",
    "    tmpdf = pd.DataFrame(\n",
    "            data=et_data, \n",
    "            index=time_stamps,\n",
    "            columns=list(data[10]['info']['desc'][0].keys())\n",
    "        )\n",
    "    tmpdf = tmpdf.reset_index()\n",
    "    tmpdf.rename(columns={'index': 'timestamp'}, inplace=True)\n",
    "    tmpdf['timestamp_rounded'] = np.round(tmpdf.timestamp, 3)\n",
    "    tmpdf = tmpdf.set_index('timestamp_rounded')\n",
    "    \n",
    "def create_trial_data(trial_start, trial_end, trial_info, trial_info_string):\n",
    "    '''\n",
    "    ofunction to concat all trial data aligned with LSL timestamps\n",
    "    '''\n",
    "    data_index = data[10]['time_stamps']>=trial_start and data[10]['time_stamps'] <= trial_end\n",
    "    et_data = data[10]['time_series'][data_index, :]\n",
    "    string_data = data[...]['time_series'][data_index, :]\n",
    "    validity_data = data[...]['time_series'][data_index, :]\n",
    "    trial_data = data[]...\n",
    "    time_stamps = data[10]['time_stamps'][data_index]\n",
    "    \n",
    "    tmpdf1 = create_dataframe(et_data, timestamps)\n",
    "    tmpdf2 = create_dataframe(string_data, timestamps)\n",
    "    tmpdf3 = create_dataframe(validity_data, timestamps)\n",
    "    \n",
    "    trial_df = tmpdf1.merge(tmpdf2, on='timestamp_rounded')\n",
    "    trial_df = df.merge(tmpdf3, on='timestamp_rounded')\n",
    "    \n",
    "    \n",
    "    # trial_info\n",
    "    trial_df['block_num'] = trial_info[0]\n",
    "    trial_df['utcon'] = trial_info[2]\n",
    "    samples_df = pd.concat([samples_df, trial_df], axis=0,)  \n",
    "    \n",
    "    \n",
    "def make_block_df():\n",
    "     for idx in enumerate(trialstart):\n",
    "            create_trial_data()\n",
    "    \n",
    "    \n",
    "    \n",
    "samples_df.to_csv(...)"
   ]
  },
  {
   "cell_type": "code",
   "execution_count": null,
   "id": "c665a941",
   "metadata": {},
   "outputs": [],
   "source": [
    "et_samples_df.head_distance.plot.kde()"
   ]
  },
  {
   "cell_type": "code",
   "execution_count": null,
   "id": "1755be69",
   "metadata": {},
   "outputs": [],
   "source": [
    "et_samples_df[['taskObjectPosition.x','taskObjectPosition.y', 'taskObjectPosition.z' ]].plot.hist()"
   ]
  },
  {
   "cell_type": "code",
   "execution_count": null,
   "id": "fa6b2d79",
   "metadata": {},
   "outputs": [],
   "source": [
    "\n",
    "ax = (\n",
    "    et_samples_df\n",
    "    .query('orientation==\"right\"')\n",
    "    [['taskObjectRotation.x', 'taskObjectRotation.y', 'taskObjectRotation.z']]\n",
    "    .plot\n",
    "    .kde()\n",
    ")\n",
    "ax.legend(frameon=False, bbox_to_anchor=[1,1])\n",
    "ax.set_title('orientation = RIGHT')\n",
    "sns.despine()"
   ]
  },
  {
   "cell_type": "code",
   "execution_count": null,
   "id": "a3ef5a0b",
   "metadata": {},
   "outputs": [],
   "source": [
    "et_samples_df[['targetHitPositionX','targetHitPositionY', 'targetHitPositionZ' ]].plot.kde()"
   ]
  },
  {
   "cell_type": "code",
   "execution_count": 63,
   "id": "51d65264",
   "metadata": {},
   "outputs": [
    {
     "data": {
      "text/plain": [
       "<AxesSubplot:ylabel='Frequency'>"
      ]
     },
     "execution_count": 63,
     "metadata": {},
     "output_type": "execute_result"
    },
    {
     "data": {
      "image/png": "[encoded data removed]",
      "text/plain": [
       "<Figure size 432x288 with 1 Axes>"
      ]
     },
     "metadata": {},
     "output_type": "display_data"
    }
   ],
   "source": [
    "et_df[['controllerPosition.x','controllerPosition.y', 'controllerPosition.z' ]].plot.hist(bins=100)"
   ]
  },
  {
   "cell_type": "code",
   "execution_count": 61,
   "id": "73002534",
   "metadata": {},
   "outputs": [
    {
     "data": {
      "text/plain": [
       "<AxesSubplot:ylabel='Frequency'>"
      ]
     },
     "execution_count": 61,
     "metadata": {},
     "output_type": "execute_result"
    },
    {
     "data": {
      "image/png": "[encoded data removed]",
      "text/plain": [
       "<Figure size 432x288 with 1 Axes>"
      ]
     },
     "metadata": {},
     "output_type": "display_data"
    }
   ],
   "source": [
    "et_samples_df[['eyeDirectionCombinedLocal.x','eyeDirectionCombinedLocal.y', 'eyeDirectionCombinedLocal.z' ]].plot.hist(bins=100)"
   ]
  },
  {
   "cell_type": "code",
   "execution_count": 62,
   "id": "a4fc33eb",
   "metadata": {},
   "outputs": [
    {
     "data": {
      "text/plain": [
       "<AxesSubplot:ylabel='Frequency'>"
      ]
     },
     "execution_count": 62,
     "metadata": {},
     "output_type": "execute_result"
    },
    {
     "data": {
      "image/png": "[encoded data removed]",
      "text/plain": [
       "<Figure size 432x288 with 1 Axes>"
      ]
     },
     "metadata": {},
     "output_type": "display_data"
    }
   ],
   "source": [
    "et_samples_df[['eyeDirectionCombinedWorld.x','eyeDirectionCombinedWorld.y', 'eyeDirectionCombinedWorld.z' ]].plot.hist(bins=100)"
   ]
  },
  {
   "cell_type": "code",
   "execution_count": 58,
   "id": "02ab66d2",
   "metadata": {},
   "outputs": [
    {
     "data": {
      "text/plain": [
       "<AxesSubplot:ylabel='Frequency'>"
      ]
     },
     "execution_count": 58,
     "metadata": {},
     "output_type": "execute_result"
    },
    {
     "data": {
      "image/png": "[encoded data removed]",
      "text/plain": [
       "<Figure size 432x288 with 1 Axes>"
      ]
     },
     "metadata": {},
     "output_type": "display_data"
    }
   ],
   "source": [
    "et_samples_df[['hmdPos.x', 'hmdPos.y', 'hmdPos.z']].plot.hist(alpha=0.7, bins=100)"
   ]
  },
  {
   "cell_type": "code",
   "execution_count": null,
   "id": "2f92ba6c",
   "metadata": {},
   "outputs": [],
   "source": [
    "et_samples_df[['hmdRotation.x', 'hmdRotation.y', 'hmdRotation.z']].plot.kde()"
   ]
  },
  {
   "cell_type": "code",
   "execution_count": null,
   "id": "397ce869",
   "metadata": {},
   "outputs": [],
   "source": [
    "et_samples_df[['hmdDirectionForward.x', 'hmdDirectionForward.y', 'hmdDirectionForward.z']].plot.kde()"
   ]
  },
  {
   "cell_type": "code",
   "execution_count": null,
   "id": "743686d0",
   "metadata": {},
   "outputs": [],
   "source": [
    "et_samples_df['head_theta_h'] = np.degrees(np.arctan2(et_samples_df['hmdDirectionForward.z'], et_samples_df['hmdDirectionForward.x']))\n",
    "et_samples_df['head_theta_v'] = np.degrees(np.arctan2(et_samples_df['hmdDirectionForward.y'], et_samples_df['hmdDirectionForward.x']))\n",
    "\n",
    "et_samples_df[['head_theta_h', 'head_theta_v']].plot.kde()"
   ]
  },
  {
   "cell_type": "code",
   "execution_count": null,
   "id": "f1f31c78",
   "metadata": {},
   "outputs": [],
   "source": [
    "et_samples_df[['eyeDirectionCombinedWorld.x', 'eyeDirectionCombinedWorld.y', 'eyeDirectionCombinedWorld.z']].plot.hist()"
   ]
  },
  {
   "cell_type": "code",
   "execution_count": null,
   "id": "9158f81c",
   "metadata": {},
   "outputs": [],
   "source": [
    "\n",
    "ax = et_samples_df[['vel_h', 'vel_v',]].plot.kde()\n",
    "ax.set(xlim=(-500, 500))"
   ]
  },
  {
   "cell_type": "code",
   "execution_count": null,
   "id": "0f6de48d",
   "metadata": {},
   "outputs": [],
   "source": [
    "et_samples_df.is_fixation.value_counts(normalize=True)"
   ]
  },
  {
   "cell_type": "code",
   "execution_count": null,
   "id": "f081b966",
   "metadata": {},
   "outputs": [],
   "source": [
    "et_samples_df[['controllerPosition.x', 'controllerPosition.y', 'controllerPosition.z']].plot.hist()"
   ]
  },
  {
   "cell_type": "code",
   "execution_count": null,
   "id": "5ffee99c",
   "metadata": {},
   "outputs": [],
   "source": [
    "tmpdf[['targetPositionX', 'targetPositionY', 'targetPositionZ']].plot.hist()"
   ]
  },
  {
   "cell_type": "code",
   "execution_count": null,
   "id": "eb95460e",
   "metadata": {},
   "outputs": [],
   "source": [
    "tmpdf[['targetHitPositionX', 'targetHitPositionY', 'targetHitPositionZ']].plot.hist()"
   ]
  },
  {
   "cell_type": "code",
   "execution_count": null,
   "id": "bf73ec2e",
   "metadata": {},
   "outputs": [],
   "source": [
    "et_samples_df['RightValidityBitMask'].value_counts(normalize=True)"
   ]
  },
  {
   "cell_type": "code",
   "execution_count": null,
   "id": "2e7db15e",
   "metadata": {},
   "outputs": [],
   "source": [
    "et_samples_df['LeftValidityBitMask'].value_counts(normalize=True)"
   ]
  },
  {
   "cell_type": "code",
   "execution_count": null,
   "id": "22866a52",
   "metadata": {},
   "outputs": [],
   "source": [
    "samples_df = pd.DataFrame()\n",
    "for idx, stream in enumerate(data):\n",
    "    if idx in np.arange(0, 15):#[0,1,2,3,4,6,7]: #streams with et data\n",
    "        print(idx)\n",
    "        tmpdf = pd.DataFrame(\n",
    "            data=stream['time_series'], \n",
    "            index=stream['time_stamps'],\n",
    "            columns=list(stream['info']['desc'][0].keys())\n",
    "        )\n",
    "        samples_df = pd.concat([samples_df, tmpdf], axis=1,)    \n",
    "\n",
    "        print(tmpdf.shape)\n",
    "        \n",
    "        #samples_df = pd.concat([samples_df, tmpdf], axis=1,)    \n",
    "    #print(samples_df.columns)\n",
    "        \n",
    "\n",
    "samples_df.head()"
   ]
  },
  {
   "cell_type": "code",
   "execution_count": null,
   "id": "701c1387",
   "metadata": {},
   "outputs": [],
   "source": [
    "samples_df = samples_df.reset_index()\n",
    "\n",
    "samples_df.rename(columns={'index': 'timestamp'}, inplace=True)\n",
    "\n",
    "samples_df['timestamp'] = np.round(samples_df.timestamp, 3)"
   ]
  },
  {
   "cell_type": "code",
   "execution_count": null,
   "id": "93996712",
   "metadata": {},
   "outputs": [],
   "source": [
    "samples_df.head()"
   ]
  },
  {
   "cell_type": "code",
   "execution_count": null,
   "id": "88378dda",
   "metadata": {},
   "outputs": [],
   "source": [
    "samples_df.info()"
   ]
  },
  {
   "cell_type": "code",
   "execution_count": null,
   "id": "701178ae",
   "metadata": {},
   "outputs": [],
   "source": [
    "str_cols = ['timestamp','hitObjectNameCombinedEyes', \n",
    "     'hitObjectNameLeftEye', 'hitObjectNameRightEye', \n",
    "     'toolName', 'cueOrientationName', \n",
    "     'cueName', 'toolHandleOrientation', \n",
    "     'closestAttachmentPointOnToolToHand']\n",
    "tmpdf1 = samples_df[str_cols].groupby('timestamp').first()\n",
    "tmpdf1"
   ]
  },
  {
   "cell_type": "code",
   "execution_count": null,
   "id": "14ae6b2a",
   "metadata": {},
   "outputs": [],
   "source": [
    "tmpdf2 = samples_df.groupby('timestamp').agg(np.nanmean).reset_index()\n",
    "\n",
    "samples_df = (\n",
    "    tmpdf1\n",
    "    .merge(tmpdf2, on='timestamp', how='right', )\n",
    ")"
   ]
  },
  {
   "cell_type": "code",
   "execution_count": null,
   "id": "5fdba958",
   "metadata": {},
   "outputs": [],
   "source": [
    "samples_df = samples_df.drop_duplicates(subset=['timestamp'])"
   ]
  },
  {
   "cell_type": "code",
   "execution_count": null,
   "id": "e80ac5bb",
   "metadata": {},
   "outputs": [],
   "source": [
    "samples_df.isna().mean()"
   ]
  },
  {
   "cell_type": "code",
   "execution_count": null,
   "id": "c197ffbc",
   "metadata": {},
   "outputs": [],
   "source": [
    "samples_df['timestamp_dt'] = pd.to_datetime(samples_df['CurrentFrameTimeStamp'], utc=True, unit='s', origin='unix')"
   ]
  },
  {
   "cell_type": "code",
   "execution_count": null,
   "id": "42b64c20",
   "metadata": {},
   "outputs": [],
   "source": [
    "samples_df.timestamp_dt.dropna().iloc[-1] - samples_df.timestamp_dt.dropna().iloc[0] "
   ]
  },
  {
   "cell_type": "code",
   "execution_count": null,
   "id": "a05e9743",
   "metadata": {},
   "outputs": [],
   "source": [
    "samples_df.timestamp_dt.dropna().drop_duplicates()"
   ]
  },
  {
   "cell_type": "code",
   "execution_count": null,
   "id": "b3d352c8",
   "metadata": {},
   "outputs": [],
   "source": [
    "samples_df['time_from_start'] = samples_df.timestamp - samples_df['timestamp'].iloc[0]"
   ]
  },
  {
   "cell_type": "code",
   "execution_count": null,
   "id": "8b447631",
   "metadata": {},
   "outputs": [],
   "source": [
    "samples_df['time_from_start'].iloc[-1]/60"
   ]
  },
  {
   "cell_type": "code",
   "execution_count": null,
   "id": "c85648e8",
   "metadata": {},
   "outputs": [],
   "source": [
    "## Sampling Rate of ET data\n",
    "np.timedelta64(1, 's')/np.mean(samples_df.timestamp_dt - samples_df.timestamp_dt.shift(1))\n",
    "\n"
   ]
  },
  {
   "cell_type": "code",
   "execution_count": null,
   "id": "69dcdb1d",
   "metadata": {},
   "outputs": [],
   "source": [
    "samples_df.toolName.unique()"
   ]
  },
  {
   "cell_type": "code",
   "execution_count": null,
   "id": "edeab431",
   "metadata": {},
   "outputs": [],
   "source": [
    "samples_df.query('blockNumber == 1 and trialID == 1').CurrentFrameTimeStamp"
   ]
  },
  {
   "cell_type": "code",
   "execution_count": null,
   "id": "822baaa8",
   "metadata": {},
   "outputs": [],
   "source": [
    "tmpdf = (\n",
    "    samples_df\n",
    "    #.sort_values(by='timestamp')\n",
    "    .set_index('timestamp')\n",
    "    .dropna(subset=['CurrentFrameTimeStamp'])\n",
    "    .groupby(['blockNumber','trialID'])\n",
    "    .CurrentFrameTimeStamp\n",
    "    .apply(lambda x: (x.iloc[-1] - x.iloc[0]))\n",
    "    .reset_index()\n",
    ")\n",
    "\n",
    "tmpdf.query('CurrentFrameTimeStamp < 10')"
   ]
  },
  {
   "cell_type": "code",
   "execution_count": null,
   "id": "7febf33f",
   "metadata": {},
   "outputs": [],
   "source": []
  },
  {
   "cell_type": "code",
   "execution_count": null,
   "id": "66c40aeb",
   "metadata": {},
   "outputs": [],
   "source": [
    "samples_df.timeStampDataPointStart.unique()"
   ]
  },
  {
   "cell_type": "markdown",
   "id": "e27aee90",
   "metadata": {},
   "source": [
    "## Create EEG dataset from xdf "
   ]
  },
  {
   "cell_type": "code",
   "execution_count": null,
   "id": "c57f204d",
   "metadata": {},
   "outputs": [],
   "source": [
    "eeg_stream = 8\n",
    "srate = data[eeg_stream]['info']['nominal_srate'][0]\n",
    "print(data[eeg_stream]['time_series'].transpose().shape)"
   ]
  },
  {
   "cell_type": "code",
   "execution_count": null,
   "id": "d0141d36",
   "metadata": {
    "scrolled": true
   },
   "outputs": [],
   "source": [
    "data[eeg_stream]['info']"
   ]
  },
  {
   "cell_type": "code",
   "execution_count": null,
   "id": "c618aacc",
   "metadata": {},
   "outputs": [],
   "source": [
    "channel_info = data[eeg_stream]['info']['desc'][0]['channels'][0]['channel']\n",
    "#print(channel_info)\n",
    "channels = [ch['label'] for ch in channel_info] ## returns list of lists\n",
    "\n",
    "channels = [ch[0] for ch in channels] ## make into one list\n",
    "\n",
    "n_channels = len(channels)"
   ]
  },
  {
   "cell_type": "code",
   "execution_count": null,
   "id": "872fbdc0",
   "metadata": {},
   "outputs": [],
   "source": [
    "info = mne.create_info(ch_names=channels, sfreq=srate)\n",
    "\n",
    "raw = mne.io.RawArray(data[eeg_stream]['time_series'].transpose(), info)\n",
    "# raw.plot(scalings=dict(eeg=100e-6))"
   ]
  },
  {
   "cell_type": "code",
   "execution_count": null,
   "id": "8bd6e1f6",
   "metadata": {},
   "outputs": [],
   "source": [
    "%matplotlib qt\n",
    "raw.plot(show_scrollbars=True, show_scalebars=True, start=0, duration=10, scalings=dict(eeg=100e-3))"
   ]
  },
  {
   "cell_type": "code",
   "execution_count": null,
   "id": "93f63fac",
   "metadata": {},
   "outputs": [],
   "source": []
  },
  {
   "cell_type": "code",
   "execution_count": null,
   "id": "53c83e95",
   "metadata": {},
   "outputs": [],
   "source": [
    "def make_time_events(x, y):\n",
    "    index = np.argsort(x)\n",
    "    sorted_x = x[index]\n",
    "    sorted_index = np.searchsorted(sorted_x, y)\n",
    "\n",
    "    yindex = np.take(index, sorted_index, mode=\"clip\")\n",
    "    mask = x[yindex] != y\n",
    "\n",
    "    result = np.ma.array(yindex, mask=mask)\n",
    "    \n",
    "    events = np.zeros(x.shape)\n",
    "    \n",
    "    events[result] = 1\n",
    "    \n",
    "    return events"
   ]
  },
  {
   "cell_type": "code",
   "execution_count": null,
   "id": "35614a19",
   "metadata": {
    "scrolled": true
   },
   "outputs": [],
   "source": [
    "data, header = pyxdf.load_xdf(os.path.join('P002',\"P006_1.xdf\"))\n",
    "    \n",
    "[\n",
    "    print(\n",
    "        f\"Stream ID:{idx} \\n\", \n",
    "        f\"Stream Name: {stream['info']['name']}\\n\", \n",
    "        f\"Stream Fields: {stream['info']['desc'][0].keys()}\\n\",\n",
    "        f\"Stream Fields Nr.: {len(stream['info']['desc'][0].keys())}\\n\",\n",
    "        f\"Stream Time: {stream['time_stamps'].shape}\\n\\n\"\n",
    "    ) \n",
    "    for idx, stream in enumerate(data)\n",
    "]"
   ]
  }
 ],
 "metadata": {
  "kernelspec": {
   "display_name": "Python 3 (ipykernel)",
   "language": "python",
   "name": "python3"
  },
  "language_info": {
   "codemirror_mode": {
    "name": "ipython",
    "version": 3
   },
   "file_extension": ".py",
   "mimetype": "text/x-python",
   "name": "python",
   "nbconvert_exporter": "python",
   "pygments_lexer": "ipython3",
   "version": "3.9.7"
  },
  "toc": {
   "base_numbering": 1,
   "nav_menu": {},
   "number_sections": true,
   "sideBar": true,
   "skip_h1_title": false,
   "title_cell": "Table of Contents",
   "title_sidebar": "Contents",
   "toc_cell": false,
   "toc_position": {
    "height": "calc(100% - 180px)",
    "left": "10px",
    "top": "150px",
    "width": "327.68px"
   },
   "toc_section_display": true,
   "toc_window_display": false
  },
  "varInspector": {
   "cols": {
    "lenName": 16,
    "lenType": 16,
    "lenVar": 40
   },
   "kernels_config": {
    "python": {
     "delete_cmd_postfix": "",
     "delete_cmd_prefix": "del ",
     "library": "var_list.py",
     "varRefreshCmd": "print(var_dic_list())"
    },
    "r": {
     "delete_cmd_postfix": ") ",
     "delete_cmd_prefix": "rm(",
     "library": "var_list.r",
     "varRefreshCmd": "cat(var_dic_list()) "
    }
   },
   "types_to_exclude": [
    "module",
    "function",
    "builtin_function_or_method",
    "instance",
    "_Feature"
   ],
   "window_display": false
  }
 },
 "nbformat": 4,
 "nbformat_minor": 5
}
