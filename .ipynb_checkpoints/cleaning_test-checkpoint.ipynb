{
 "cells": [
  {
   "cell_type": "markdown",
   "id": "15752930",
   "metadata": {},
   "source": [
    "# Manually check how clean are the ASR outputs\n"
   ]
  },
  {
   "cell_type": "code",
   "execution_count": 1,
   "id": "afb0e52b",
   "metadata": {
    "ExecuteTime": {
     "end_time": "2022-01-31T11:34:08.318218Z",
     "start_time": "2022-01-31T11:34:04.194242Z"
    }
   },
   "outputs": [],
   "source": [
    "import matplotlib\n",
    "matplotlib.use('Qt5Agg')\n",
    "import matplotlib.pyplot as plt\n",
    "import mne\n",
    "import numpy as np\n",
    "import pandas as pd"
   ]
  },
  {
   "cell_type": "markdown",
   "id": "5b82f749",
   "metadata": {},
   "source": [
    "# Compare averaged epochs  unclean and clean for each subject and block"
   ]
  },
  {
   "cell_type": "code",
   "execution_count": 2,
   "id": "d91f13ec",
   "metadata": {
    "ExecuteTime": {
     "end_time": "2022-01-31T11:34:13.490906Z",
     "start_time": "2022-01-31T11:34:13.476945Z"
    }
   },
   "outputs": [],
   "source": [
    "preprocessing_output = 0\n",
    "\"\"\"Subject: P001 Block: 1 Report: ok\n",
    "Subject: P001 Block: 2 Report: ok\n",
    "Subject: P001 Block: 3 Report: ok\n",
    "Subject: P002 Block: 1 Report: ok\n",
    "Subject: P002 Block: 2 Report: ok\n",
    "Subject: P002 Block: 3 Report: ok\n",
    "Subject: P002 Block: 4 Report: ok\n",
    "Subject: P002 Block: 5 Report: ok\n",
    "Subject: P002 Block: 6 Report: ok\n",
    "Subject: P003 Block: 1 Report: ok\n",
    "Subject: P003 Block: 2 Report: ok\n",
    "Subject: P003 Block: 3 Report: ok\n",
    "Subject: P003 Block: 4 Report: ok\n",
    "Subject: P003 Block: 5 Report: ok\n",
    "Subject: P003 Block: 6 Report: ok\n",
    "Subject: P004 Block: 1 Report: skipped\n",
    "Subject: P004 Block: 2 Report: ok\n",
    "Subject: P004 Block: 3 Report: ok\n",
    "Subject: P004 Block: 4 Report: ok\n",
    "Subject: P004 Block: 5 Report: ok\n",
    "Subject: P004 Block: 6 Report: ok\"\"\"\n",
    "\n",
    "preprocessing_output = \"\"\"\n",
    "Subject: S001 Block: 1 Report: ok\n",
    "Subject: S001 Block: 2 Report: ok\n",
    "Subject: S001 Block: 3 Report: ok\n",
    "Subject: S001 Block: 4 Report: ok\n",
    "Subject: S002 Block: 1 Report: ok\n",
    "Subject: S002 Block: 2 Report: ok\n",
    "Subject: S002 Block: 3 Report: ok\n",
    "Subject: S002 Block: 4 Report: ok\n",
    "Subject: S002 Block: 5 Report: ok\n",
    "Subject: S002 Block: 6 Report: ok\n",
    "Subject: S003 Block: 1 Report: ok\n",
    "Subject: S003 Block: 2 Report: ok\n",
    "Subject: S003 Block: 3 Report: ok\n",
    "Subject: S003 Block: 4 Report: ok\n",
    "Subject: S003 Block: 5 Report: ok\n",
    "Subject: S003 Block: 6 Report: ok\n",
    "Subject: S004 Block: 1 Report: ok\n",
    "Subject: S004 Block: 2 Report: ok\n",
    "Subject: S004 Block: 3 Report: ok\n",
    "Subject: S004 Block: 4 Report: ok\n",
    "Subject: S004 Block: 5 Report: ok\n",
    "Subject: S004 Block: 6 Report: ok\n",
    "Subject: S005 Block: 1 Report: ok\n",
    "Subject: S005 Block: 2 Report: ok\n",
    "Subject: S005 Block: 3 Report: ok\n",
    "Subject: S005 Block: 4 Report: ok\n",
    "Subject: S005 Block: 5 Report: ok\n",
    "Subject: S005 Block: 6 Report: ok\"\"\""
   ]
  },
  {
   "cell_type": "code",
   "execution_count": 3,
   "id": "32d375f9",
   "metadata": {
    "ExecuteTime": {
     "end_time": "2022-01-31T11:51:49.237913Z",
     "start_time": "2022-01-31T11:34:24.824789Z"
    },
    "scrolled": false
   },
   "outputs": [
    {
     "name": "stdout",
     "output_type": "stream",
     "text": [
      "S001 1\n"
     ]
    },
    {
     "name": "stderr",
     "output_type": "stream",
     "text": [
      "C:\\Users\\akeshava\\.conda\\envs\\conda_eeg\\lib\\site-packages\\mne\\viz\\evoked.py:551: MatplotlibDeprecationWarning: The 'rectprops' parameter of __init__() has been renamed 'props' since Matplotlib 3.5; support for the old name will be dropped two minor releases later.\n",
      "  ax._span_selector = SpanSelector(\n"
     ]
    },
    {
     "ename": "KeyboardInterrupt",
     "evalue": "",
     "output_type": "error",
     "traceback": [
      "\u001b[1;31m---------------------------------------------------------------------------\u001b[0m",
      "\u001b[1;31mKeyboardInterrupt\u001b[0m                         Traceback (most recent call last)",
      "Input \u001b[1;32mIn [3]\u001b[0m, in \u001b[0;36m<module>\u001b[1;34m\u001b[0m\n\u001b[0;32m      8\u001b[0m cleanepoch \u001b[38;5;241m=\u001b[39m mne\u001b[38;5;241m.\u001b[39mread_epochs(clean, preload\u001b[38;5;241m=\u001b[39m\u001b[38;5;28;01mFalse\u001b[39;00m,verbose\u001b[38;5;241m=\u001b[39m\u001b[38;5;28;01mFalse\u001b[39;00m)\n\u001b[0;32m      9\u001b[0m uncleanepoch \u001b[38;5;241m=\u001b[39m mne\u001b[38;5;241m.\u001b[39mread_epochs(unclean, preload\u001b[38;5;241m=\u001b[39m\u001b[38;5;28;01mFalse\u001b[39;00m,verbose\u001b[38;5;241m=\u001b[39m\u001b[38;5;28;01mFalse\u001b[39;00m)\n\u001b[1;32m---> 10\u001b[0m \u001b[43muncleanepoch\u001b[49m\u001b[38;5;241;43m.\u001b[39;49m\u001b[43maverage\u001b[49m\u001b[43m(\u001b[49m\u001b[43m)\u001b[49m\u001b[38;5;241;43m.\u001b[39;49m\u001b[43mplot\u001b[49m\u001b[43m(\u001b[49m\u001b[43mspatial_colors\u001b[49m\u001b[38;5;241;43m=\u001b[39;49m\u001b[38;5;28;43;01mTrue\u001b[39;49;00m\u001b[43m,\u001b[49m\u001b[43m \u001b[49m\u001b[43mtitles\u001b[49m\u001b[38;5;241;43m=\u001b[39;49m\u001b[38;5;124;43m\"\u001b[39;49m\u001b[38;5;124;43mSubj \u001b[39;49m\u001b[38;5;132;43;01m{}\u001b[39;49;00m\u001b[38;5;124;43m Block \u001b[39;49m\u001b[38;5;132;43;01m{}\u001b[39;49;00m\u001b[38;5;124;43m Original Signal\u001b[39;49m\u001b[38;5;124;43m\"\u001b[39;49m\u001b[38;5;241;43m.\u001b[39;49m\u001b[43mformat\u001b[49m\u001b[43m(\u001b[49m\u001b[43mtmpl\u001b[49m\u001b[43m[\u001b[49m\u001b[38;5;241;43m1\u001b[39;49m\u001b[43m]\u001b[49m\u001b[43m,\u001b[49m\u001b[43mtmpl\u001b[49m\u001b[43m[\u001b[49m\u001b[38;5;241;43m3\u001b[39;49m\u001b[43m]\u001b[49m\u001b[43m)\u001b[49m\u001b[43m)\u001b[49m\n\u001b[0;32m     11\u001b[0m cleanepoch\u001b[38;5;241m.\u001b[39maverage()\u001b[38;5;241m.\u001b[39mplot(spatial_colors\u001b[38;5;241m=\u001b[39m\u001b[38;5;28;01mTrue\u001b[39;00m, titles\u001b[38;5;241m=\u001b[39m\u001b[38;5;124m\"\u001b[39m\u001b[38;5;124mSubj \u001b[39m\u001b[38;5;132;01m{}\u001b[39;00m\u001b[38;5;124m Block \u001b[39m\u001b[38;5;132;01m{}\u001b[39;00m\u001b[38;5;124m ASR Cleaned\u001b[39m\u001b[38;5;124m\"\u001b[39m\u001b[38;5;241m.\u001b[39mformat(tmpl[\u001b[38;5;241m1\u001b[39m],tmpl[\u001b[38;5;241m3\u001b[39m]))\n\u001b[0;32m     12\u001b[0m plt\u001b[38;5;241m.\u001b[39mshow()\n",
      "File \u001b[1;32m~\\.conda\\envs\\conda_eeg\\lib\\site-packages\\mne\\evoked.py:389\u001b[0m, in \u001b[0;36mEvoked.plot\u001b[1;34m(self, picks, exclude, unit, show, ylim, xlim, proj, hline, units, scalings, titles, axes, gfp, window_title, spatial_colors, zorder, selectable, noise_cov, time_unit, sphere, verbose)\u001b[0m\n\u001b[0;32m    383\u001b[0m \u001b[38;5;129m@copy_function_doc_to_method_doc\u001b[39m(plot_evoked)\n\u001b[0;32m    384\u001b[0m \u001b[38;5;28;01mdef\u001b[39;00m \u001b[38;5;21mplot\u001b[39m(\u001b[38;5;28mself\u001b[39m, picks\u001b[38;5;241m=\u001b[39m\u001b[38;5;28;01mNone\u001b[39;00m, exclude\u001b[38;5;241m=\u001b[39m\u001b[38;5;124m'\u001b[39m\u001b[38;5;124mbads\u001b[39m\u001b[38;5;124m'\u001b[39m, unit\u001b[38;5;241m=\u001b[39m\u001b[38;5;28;01mTrue\u001b[39;00m, show\u001b[38;5;241m=\u001b[39m\u001b[38;5;28;01mTrue\u001b[39;00m, ylim\u001b[38;5;241m=\u001b[39m\u001b[38;5;28;01mNone\u001b[39;00m,\n\u001b[0;32m    385\u001b[0m          xlim\u001b[38;5;241m=\u001b[39m\u001b[38;5;124m'\u001b[39m\u001b[38;5;124mtight\u001b[39m\u001b[38;5;124m'\u001b[39m, proj\u001b[38;5;241m=\u001b[39m\u001b[38;5;28;01mFalse\u001b[39;00m, hline\u001b[38;5;241m=\u001b[39m\u001b[38;5;28;01mNone\u001b[39;00m, units\u001b[38;5;241m=\u001b[39m\u001b[38;5;28;01mNone\u001b[39;00m, scalings\u001b[38;5;241m=\u001b[39m\u001b[38;5;28;01mNone\u001b[39;00m,\n\u001b[0;32m    386\u001b[0m          titles\u001b[38;5;241m=\u001b[39m\u001b[38;5;28;01mNone\u001b[39;00m, axes\u001b[38;5;241m=\u001b[39m\u001b[38;5;28;01mNone\u001b[39;00m, gfp\u001b[38;5;241m=\u001b[39m\u001b[38;5;28;01mFalse\u001b[39;00m, window_title\u001b[38;5;241m=\u001b[39m\u001b[38;5;28;01mNone\u001b[39;00m,\n\u001b[0;32m    387\u001b[0m          spatial_colors\u001b[38;5;241m=\u001b[39m\u001b[38;5;28;01mFalse\u001b[39;00m, zorder\u001b[38;5;241m=\u001b[39m\u001b[38;5;124m'\u001b[39m\u001b[38;5;124munsorted\u001b[39m\u001b[38;5;124m'\u001b[39m, selectable\u001b[38;5;241m=\u001b[39m\u001b[38;5;28;01mTrue\u001b[39;00m,\n\u001b[0;32m    388\u001b[0m          noise_cov\u001b[38;5;241m=\u001b[39m\u001b[38;5;28;01mNone\u001b[39;00m, time_unit\u001b[38;5;241m=\u001b[39m\u001b[38;5;124m'\u001b[39m\u001b[38;5;124ms\u001b[39m\u001b[38;5;124m'\u001b[39m, sphere\u001b[38;5;241m=\u001b[39m\u001b[38;5;28;01mNone\u001b[39;00m, verbose\u001b[38;5;241m=\u001b[39m\u001b[38;5;28;01mNone\u001b[39;00m):\n\u001b[1;32m--> 389\u001b[0m     \u001b[38;5;28;01mreturn\u001b[39;00m \u001b[43mplot_evoked\u001b[49m\u001b[43m(\u001b[49m\n\u001b[0;32m    390\u001b[0m \u001b[43m        \u001b[49m\u001b[38;5;28;43mself\u001b[39;49m\u001b[43m,\u001b[49m\u001b[43m \u001b[49m\u001b[43mpicks\u001b[49m\u001b[38;5;241;43m=\u001b[39;49m\u001b[43mpicks\u001b[49m\u001b[43m,\u001b[49m\u001b[43m \u001b[49m\u001b[43mexclude\u001b[49m\u001b[38;5;241;43m=\u001b[39;49m\u001b[43mexclude\u001b[49m\u001b[43m,\u001b[49m\u001b[43m \u001b[49m\u001b[43munit\u001b[49m\u001b[38;5;241;43m=\u001b[39;49m\u001b[43munit\u001b[49m\u001b[43m,\u001b[49m\u001b[43m \u001b[49m\u001b[43mshow\u001b[49m\u001b[38;5;241;43m=\u001b[39;49m\u001b[43mshow\u001b[49m\u001b[43m,\u001b[49m\n\u001b[0;32m    391\u001b[0m \u001b[43m        \u001b[49m\u001b[43mylim\u001b[49m\u001b[38;5;241;43m=\u001b[39;49m\u001b[43mylim\u001b[49m\u001b[43m,\u001b[49m\u001b[43m \u001b[49m\u001b[43mproj\u001b[49m\u001b[38;5;241;43m=\u001b[39;49m\u001b[43mproj\u001b[49m\u001b[43m,\u001b[49m\u001b[43m \u001b[49m\u001b[43mxlim\u001b[49m\u001b[38;5;241;43m=\u001b[39;49m\u001b[43mxlim\u001b[49m\u001b[43m,\u001b[49m\u001b[43m \u001b[49m\u001b[43mhline\u001b[49m\u001b[38;5;241;43m=\u001b[39;49m\u001b[43mhline\u001b[49m\u001b[43m,\u001b[49m\u001b[43m \u001b[49m\u001b[43munits\u001b[49m\u001b[38;5;241;43m=\u001b[39;49m\u001b[43munits\u001b[49m\u001b[43m,\u001b[49m\n\u001b[0;32m    392\u001b[0m \u001b[43m        \u001b[49m\u001b[43mscalings\u001b[49m\u001b[38;5;241;43m=\u001b[39;49m\u001b[43mscalings\u001b[49m\u001b[43m,\u001b[49m\u001b[43m \u001b[49m\u001b[43mtitles\u001b[49m\u001b[38;5;241;43m=\u001b[39;49m\u001b[43mtitles\u001b[49m\u001b[43m,\u001b[49m\u001b[43m \u001b[49m\u001b[43maxes\u001b[49m\u001b[38;5;241;43m=\u001b[39;49m\u001b[43maxes\u001b[49m\u001b[43m,\u001b[49m\u001b[43m \u001b[49m\u001b[43mgfp\u001b[49m\u001b[38;5;241;43m=\u001b[39;49m\u001b[43mgfp\u001b[49m\u001b[43m,\u001b[49m\n\u001b[0;32m    393\u001b[0m \u001b[43m        \u001b[49m\u001b[43mwindow_title\u001b[49m\u001b[38;5;241;43m=\u001b[39;49m\u001b[43mwindow_title\u001b[49m\u001b[43m,\u001b[49m\u001b[43m \u001b[49m\u001b[43mspatial_colors\u001b[49m\u001b[38;5;241;43m=\u001b[39;49m\u001b[43mspatial_colors\u001b[49m\u001b[43m,\u001b[49m\n\u001b[0;32m    394\u001b[0m \u001b[43m        \u001b[49m\u001b[43mzorder\u001b[49m\u001b[38;5;241;43m=\u001b[39;49m\u001b[43mzorder\u001b[49m\u001b[43m,\u001b[49m\u001b[43m \u001b[49m\u001b[43mselectable\u001b[49m\u001b[38;5;241;43m=\u001b[39;49m\u001b[43mselectable\u001b[49m\u001b[43m,\u001b[49m\u001b[43m \u001b[49m\u001b[43mnoise_cov\u001b[49m\u001b[38;5;241;43m=\u001b[39;49m\u001b[43mnoise_cov\u001b[49m\u001b[43m,\u001b[49m\n\u001b[0;32m    395\u001b[0m \u001b[43m        \u001b[49m\u001b[43mtime_unit\u001b[49m\u001b[38;5;241;43m=\u001b[39;49m\u001b[43mtime_unit\u001b[49m\u001b[43m,\u001b[49m\u001b[43m \u001b[49m\u001b[43msphere\u001b[49m\u001b[38;5;241;43m=\u001b[39;49m\u001b[43msphere\u001b[49m\u001b[43m,\u001b[49m\u001b[43m \u001b[49m\u001b[43mverbose\u001b[49m\u001b[38;5;241;43m=\u001b[39;49m\u001b[43mverbose\u001b[49m\u001b[43m)\u001b[49m\n",
      "File \u001b[1;32m<decorator-gen-158>:24\u001b[0m, in \u001b[0;36mplot_evoked\u001b[1;34m(evoked, picks, exclude, unit, show, ylim, xlim, proj, hline, units, scalings, titles, axes, gfp, window_title, spatial_colors, zorder, selectable, noise_cov, time_unit, sphere, verbose)\u001b[0m\n",
      "File \u001b[1;32m~\\.conda\\envs\\conda_eeg\\lib\\site-packages\\mne\\viz\\evoked.py:764\u001b[0m, in \u001b[0;36mplot_evoked\u001b[1;34m(evoked, picks, exclude, unit, show, ylim, xlim, proj, hline, units, scalings, titles, axes, gfp, window_title, spatial_colors, zorder, selectable, noise_cov, time_unit, sphere, verbose)\u001b[0m\n\u001b[0;32m    641\u001b[0m \u001b[38;5;129m@verbose\u001b[39m\n\u001b[0;32m    642\u001b[0m \u001b[38;5;28;01mdef\u001b[39;00m \u001b[38;5;21mplot_evoked\u001b[39m(evoked, picks\u001b[38;5;241m=\u001b[39m\u001b[38;5;28;01mNone\u001b[39;00m, exclude\u001b[38;5;241m=\u001b[39m\u001b[38;5;124m'\u001b[39m\u001b[38;5;124mbads\u001b[39m\u001b[38;5;124m'\u001b[39m, unit\u001b[38;5;241m=\u001b[39m\u001b[38;5;28;01mTrue\u001b[39;00m, show\u001b[38;5;241m=\u001b[39m\u001b[38;5;28;01mTrue\u001b[39;00m,\n\u001b[0;32m    643\u001b[0m                 ylim\u001b[38;5;241m=\u001b[39m\u001b[38;5;28;01mNone\u001b[39;00m, xlim\u001b[38;5;241m=\u001b[39m\u001b[38;5;124m'\u001b[39m\u001b[38;5;124mtight\u001b[39m\u001b[38;5;124m'\u001b[39m, proj\u001b[38;5;241m=\u001b[39m\u001b[38;5;28;01mFalse\u001b[39;00m, hline\u001b[38;5;241m=\u001b[39m\u001b[38;5;28;01mNone\u001b[39;00m, units\u001b[38;5;241m=\u001b[39m\u001b[38;5;28;01mNone\u001b[39;00m,\n\u001b[1;32m   (...)\u001b[0m\n\u001b[0;32m    646\u001b[0m                 selectable\u001b[38;5;241m=\u001b[39m\u001b[38;5;28;01mTrue\u001b[39;00m, noise_cov\u001b[38;5;241m=\u001b[39m\u001b[38;5;28;01mNone\u001b[39;00m, time_unit\u001b[38;5;241m=\u001b[39m\u001b[38;5;124m'\u001b[39m\u001b[38;5;124ms\u001b[39m\u001b[38;5;124m'\u001b[39m, sphere\u001b[38;5;241m=\u001b[39m\u001b[38;5;28;01mNone\u001b[39;00m,\n\u001b[0;32m    647\u001b[0m                 verbose\u001b[38;5;241m=\u001b[39m\u001b[38;5;28;01mNone\u001b[39;00m):\n\u001b[0;32m    648\u001b[0m     \u001b[38;5;124;03m\"\"\"Plot evoked data using butterfly plots.\u001b[39;00m\n\u001b[0;32m    649\u001b[0m \n\u001b[0;32m    650\u001b[0m \u001b[38;5;124;03m    Left click to a line shows the channel name. Selecting an area by clicking\u001b[39;00m\n\u001b[1;32m   (...)\u001b[0m\n\u001b[0;32m    762\u001b[0m \u001b[38;5;124;03m    mne.viz.plot_evoked_white\u001b[39;00m\n\u001b[0;32m    763\u001b[0m \u001b[38;5;124;03m    \"\"\"\u001b[39;00m\n\u001b[1;32m--> 764\u001b[0m     \u001b[38;5;28;01mreturn\u001b[39;00m \u001b[43m_plot_evoked\u001b[49m\u001b[43m(\u001b[49m\n\u001b[0;32m    765\u001b[0m \u001b[43m        \u001b[49m\u001b[43mevoked\u001b[49m\u001b[38;5;241;43m=\u001b[39;49m\u001b[43mevoked\u001b[49m\u001b[43m,\u001b[49m\u001b[43m \u001b[49m\u001b[43mpicks\u001b[49m\u001b[38;5;241;43m=\u001b[39;49m\u001b[43mpicks\u001b[49m\u001b[43m,\u001b[49m\u001b[43m \u001b[49m\u001b[43mexclude\u001b[49m\u001b[38;5;241;43m=\u001b[39;49m\u001b[43mexclude\u001b[49m\u001b[43m,\u001b[49m\u001b[43m \u001b[49m\u001b[43munit\u001b[49m\u001b[38;5;241;43m=\u001b[39;49m\u001b[43munit\u001b[49m\u001b[43m,\u001b[49m\u001b[43m \u001b[49m\u001b[43mshow\u001b[49m\u001b[38;5;241;43m=\u001b[39;49m\u001b[43mshow\u001b[49m\u001b[43m,\u001b[49m\n\u001b[0;32m    766\u001b[0m \u001b[43m        \u001b[49m\u001b[43mylim\u001b[49m\u001b[38;5;241;43m=\u001b[39;49m\u001b[43mylim\u001b[49m\u001b[43m,\u001b[49m\u001b[43m \u001b[49m\u001b[43mproj\u001b[49m\u001b[38;5;241;43m=\u001b[39;49m\u001b[43mproj\u001b[49m\u001b[43m,\u001b[49m\u001b[43m \u001b[49m\u001b[43mxlim\u001b[49m\u001b[38;5;241;43m=\u001b[39;49m\u001b[43mxlim\u001b[49m\u001b[43m,\u001b[49m\u001b[43m \u001b[49m\u001b[43mhline\u001b[49m\u001b[38;5;241;43m=\u001b[39;49m\u001b[43mhline\u001b[49m\u001b[43m,\u001b[49m\u001b[43m \u001b[49m\u001b[43munits\u001b[49m\u001b[38;5;241;43m=\u001b[39;49m\u001b[43munits\u001b[49m\u001b[43m,\u001b[49m\n\u001b[0;32m    767\u001b[0m \u001b[43m        \u001b[49m\u001b[43mscalings\u001b[49m\u001b[38;5;241;43m=\u001b[39;49m\u001b[43mscalings\u001b[49m\u001b[43m,\u001b[49m\u001b[43m \u001b[49m\u001b[43mtitles\u001b[49m\u001b[38;5;241;43m=\u001b[39;49m\u001b[43mtitles\u001b[49m\u001b[43m,\u001b[49m\u001b[43m \u001b[49m\u001b[43maxes\u001b[49m\u001b[38;5;241;43m=\u001b[39;49m\u001b[43maxes\u001b[49m\u001b[43m,\u001b[49m\u001b[43m \u001b[49m\u001b[43mplot_type\u001b[49m\u001b[38;5;241;43m=\u001b[39;49m\u001b[38;5;124;43m\"\u001b[39;49m\u001b[38;5;124;43mbutterfly\u001b[39;49m\u001b[38;5;124;43m\"\u001b[39;49m\u001b[43m,\u001b[49m\n\u001b[0;32m    768\u001b[0m \u001b[43m        \u001b[49m\u001b[43mgfp\u001b[49m\u001b[38;5;241;43m=\u001b[39;49m\u001b[43mgfp\u001b[49m\u001b[43m,\u001b[49m\u001b[43m \u001b[49m\u001b[43mwindow_title\u001b[49m\u001b[38;5;241;43m=\u001b[39;49m\u001b[43mwindow_title\u001b[49m\u001b[43m,\u001b[49m\u001b[43m \u001b[49m\u001b[43mspatial_colors\u001b[49m\u001b[38;5;241;43m=\u001b[39;49m\u001b[43mspatial_colors\u001b[49m\u001b[43m,\u001b[49m\n\u001b[0;32m    769\u001b[0m \u001b[43m        \u001b[49m\u001b[43mselectable\u001b[49m\u001b[38;5;241;43m=\u001b[39;49m\u001b[43mselectable\u001b[49m\u001b[43m,\u001b[49m\u001b[43m \u001b[49m\u001b[43mzorder\u001b[49m\u001b[38;5;241;43m=\u001b[39;49m\u001b[43mzorder\u001b[49m\u001b[43m,\u001b[49m\u001b[43m \u001b[49m\u001b[43mnoise_cov\u001b[49m\u001b[38;5;241;43m=\u001b[39;49m\u001b[43mnoise_cov\u001b[49m\u001b[43m,\u001b[49m\n\u001b[0;32m    770\u001b[0m \u001b[43m        \u001b[49m\u001b[43mtime_unit\u001b[49m\u001b[38;5;241;43m=\u001b[39;49m\u001b[43mtime_unit\u001b[49m\u001b[43m,\u001b[49m\u001b[43m \u001b[49m\u001b[43msphere\u001b[49m\u001b[38;5;241;43m=\u001b[39;49m\u001b[43msphere\u001b[49m\u001b[43m)\u001b[49m\n",
      "File \u001b[1;32m~\\.conda\\envs\\conda_eeg\\lib\\site-packages\\mne\\viz\\evoked.py:374\u001b[0m, in \u001b[0;36m_plot_evoked\u001b[1;34m(evoked, picks, exclude, unit, show, ylim, proj, xlim, hline, units, scalings, titles, axes, plot_type, cmap, gfp, window_title, spatial_colors, selectable, zorder, noise_cov, colorbar, mask, mask_style, mask_cmap, mask_alpha, time_unit, show_names, group_by, sphere)\u001b[0m\n\u001b[0;32m    372\u001b[0m plt\u001b[38;5;241m.\u001b[39msetp(fig\u001b[38;5;241m.\u001b[39maxes[:\u001b[38;5;28mlen\u001b[39m(ch_types_used) \u001b[38;5;241m-\u001b[39m \u001b[38;5;241m1\u001b[39m], xlabel\u001b[38;5;241m=\u001b[39m\u001b[38;5;124m'\u001b[39m\u001b[38;5;124m'\u001b[39m)\n\u001b[0;32m    373\u001b[0m fig\u001b[38;5;241m.\u001b[39mcanvas\u001b[38;5;241m.\u001b[39mdraw()  \u001b[38;5;66;03m# for axes plots update axes.\u001b[39;00m\n\u001b[1;32m--> 374\u001b[0m \u001b[43mplt_show\u001b[49m\u001b[43m(\u001b[49m\u001b[43mshow\u001b[49m\u001b[43m)\u001b[49m\n\u001b[0;32m    375\u001b[0m \u001b[38;5;28;01mreturn\u001b[39;00m fig\n",
      "File \u001b[1;32m~\\.conda\\envs\\conda_eeg\\lib\\site-packages\\mne\\viz\\utils.py:108\u001b[0m, in \u001b[0;36mplt_show\u001b[1;34m(show, fig, **kwargs)\u001b[0m\n\u001b[0;32m    106\u001b[0m \u001b[38;5;28;01mimport\u001b[39;00m \u001b[38;5;21;01mmatplotlib\u001b[39;00m\u001b[38;5;21;01m.\u001b[39;00m\u001b[38;5;21;01mpyplot\u001b[39;00m \u001b[38;5;28;01mas\u001b[39;00m \u001b[38;5;21;01mplt\u001b[39;00m\n\u001b[0;32m    107\u001b[0m \u001b[38;5;28;01mif\u001b[39;00m show \u001b[38;5;129;01mand\u001b[39;00m get_backend() \u001b[38;5;241m!=\u001b[39m \u001b[38;5;124m'\u001b[39m\u001b[38;5;124magg\u001b[39m\u001b[38;5;124m'\u001b[39m:\n\u001b[1;32m--> 108\u001b[0m     (fig \u001b[38;5;129;01mor\u001b[39;00m plt)\u001b[38;5;241m.\u001b[39mshow(\u001b[38;5;241m*\u001b[39m\u001b[38;5;241m*\u001b[39mkwargs)\n",
      "File \u001b[1;32m~\\.conda\\envs\\conda_eeg\\lib\\site-packages\\matplotlib\\pyplot.py:368\u001b[0m, in \u001b[0;36mshow\u001b[1;34m(*args, **kwargs)\u001b[0m\n\u001b[0;32m    324\u001b[0m \u001b[38;5;124;03m\"\"\"\u001b[39;00m\n\u001b[0;32m    325\u001b[0m \u001b[38;5;124;03mDisplay all open figures.\u001b[39;00m\n\u001b[0;32m    326\u001b[0m \n\u001b[1;32m   (...)\u001b[0m\n\u001b[0;32m    365\u001b[0m \u001b[38;5;124;03mexplicitly there.\u001b[39;00m\n\u001b[0;32m    366\u001b[0m \u001b[38;5;124;03m\"\"\"\u001b[39;00m\n\u001b[0;32m    367\u001b[0m _warn_if_gui_out_of_main_thread()\n\u001b[1;32m--> 368\u001b[0m \u001b[38;5;28;01mreturn\u001b[39;00m _backend_mod\u001b[38;5;241m.\u001b[39mshow(\u001b[38;5;241m*\u001b[39margs, \u001b[38;5;241m*\u001b[39m\u001b[38;5;241m*\u001b[39mkwargs)\n",
      "File \u001b[1;32m~\\.conda\\envs\\conda_eeg\\lib\\site-packages\\matplotlib\\backend_bases.py:3544\u001b[0m, in \u001b[0;36m_Backend.show\u001b[1;34m(cls, block)\u001b[0m\n\u001b[0;32m   3542\u001b[0m         block \u001b[38;5;241m=\u001b[39m \u001b[38;5;28;01mTrue\u001b[39;00m\n\u001b[0;32m   3543\u001b[0m \u001b[38;5;28;01mif\u001b[39;00m block:\n\u001b[1;32m-> 3544\u001b[0m     \u001b[38;5;28;43mcls\u001b[39;49m\u001b[38;5;241;43m.\u001b[39;49m\u001b[43mmainloop\u001b[49m\u001b[43m(\u001b[49m\u001b[43m)\u001b[49m\n",
      "File \u001b[1;32m~\\.conda\\envs\\conda_eeg\\lib\\site-packages\\matplotlib\\backends\\backend_qt.py:1023\u001b[0m, in \u001b[0;36m_BackendQT.mainloop\u001b[1;34m()\u001b[0m\n\u001b[0;32m   1020\u001b[0m \u001b[38;5;129m@staticmethod\u001b[39m\n\u001b[0;32m   1021\u001b[0m \u001b[38;5;28;01mdef\u001b[39;00m \u001b[38;5;21mmainloop\u001b[39m():\n\u001b[0;32m   1022\u001b[0m     \u001b[38;5;28;01mwith\u001b[39;00m _maybe_allow_interrupt(qApp):\n\u001b[1;32m-> 1023\u001b[0m         qt_compat\u001b[38;5;241m.\u001b[39m_exec(qApp)\n",
      "File \u001b[1;32m~\\.conda\\envs\\conda_eeg\\lib\\contextlib.py:124\u001b[0m, in \u001b[0;36m_GeneratorContextManager.__exit__\u001b[1;34m(self, type, value, traceback)\u001b[0m\n\u001b[0;32m    122\u001b[0m \u001b[38;5;28;01mif\u001b[39;00m \u001b[38;5;28mtype\u001b[39m \u001b[38;5;129;01mis\u001b[39;00m \u001b[38;5;28;01mNone\u001b[39;00m:\n\u001b[0;32m    123\u001b[0m     \u001b[38;5;28;01mtry\u001b[39;00m:\n\u001b[1;32m--> 124\u001b[0m         \u001b[38;5;28;43mnext\u001b[39;49m\u001b[43m(\u001b[49m\u001b[38;5;28;43mself\u001b[39;49m\u001b[38;5;241;43m.\u001b[39;49m\u001b[43mgen\u001b[49m\u001b[43m)\u001b[49m\n\u001b[0;32m    125\u001b[0m     \u001b[38;5;28;01mexcept\u001b[39;00m \u001b[38;5;167;01mStopIteration\u001b[39;00m:\n\u001b[0;32m    126\u001b[0m         \u001b[38;5;28;01mreturn\u001b[39;00m \u001b[38;5;28;01mFalse\u001b[39;00m\n",
      "File \u001b[1;32m~\\.conda\\envs\\conda_eeg\\lib\\site-packages\\matplotlib\\backends\\qt_compat.py:262\u001b[0m, in \u001b[0;36m_maybe_allow_interrupt\u001b[1;34m(qapp)\u001b[0m\n\u001b[0;32m    260\u001b[0m signal\u001b[38;5;241m.\u001b[39msignal(signal\u001b[38;5;241m.\u001b[39mSIGINT, old_sigint_handler)\n\u001b[0;32m    261\u001b[0m \u001b[38;5;28;01mif\u001b[39;00m handler_args \u001b[38;5;129;01mis\u001b[39;00m \u001b[38;5;129;01mnot\u001b[39;00m \u001b[38;5;28;01mNone\u001b[39;00m:\n\u001b[1;32m--> 262\u001b[0m     \u001b[43mold_sigint_handler\u001b[49m\u001b[43m(\u001b[49m\u001b[38;5;241;43m*\u001b[39;49m\u001b[43mhandler_args\u001b[49m\u001b[43m)\u001b[49m\n",
      "\u001b[1;31mKeyboardInterrupt\u001b[0m: "
     ]
    }
   ],
   "source": [
    "#%matplotlib qt5\n",
    "for line in preprocessing_output.split(\"\\n\"):\n",
    "    tmpl = line.split(\" \")\n",
    "    if tmpl[-1] == 'ok':\n",
    "        print(tmpl[1],tmpl[3])\n",
    "        clean = f\"D:/projects/GTI_decoding/data/pilot/01_subjects_data/{tmpl[1]}/eeg/preprocessed/02_epoched/block_{tmpl[3]}_epo.fif\"\n",
    "        unclean = f\"D:/projects/GTI_decoding/data/pilot/01_subjects_data/{tmpl[1]}/eeg/preprocessed/99_epochs_raw/block_{tmpl[3]}_epo.fif\"\n",
    "        cleanepoch = mne.read_epochs(clean, preload=False,verbose=False)\n",
    "        uncleanepoch = mne.read_epochs(unclean, preload=False,verbose=False)\n",
    "        uncleanepoch.average().plot(spatial_colors=True, titles=\"Subj {} Block {} Original Signal\".format(tmpl[1],tmpl[3]))\n",
    "        cleanepoch.average().plot(spatial_colors=True, titles=\"Subj {} Block {} ASR Cleaned\".format(tmpl[1],tmpl[3]))\n",
    "        plt.show()"
   ]
  },
  {
   "cell_type": "markdown",
   "id": "638cfc55",
   "metadata": {},
   "source": [
    "# Check specific subject and specific block"
   ]
  },
  {
   "cell_type": "code",
   "execution_count": null,
   "id": "dfffedec",
   "metadata": {
    "ExecuteTime": {
     "end_time": "2022-01-31T11:52:32.217016Z",
     "start_time": "2022-01-31T11:52:32.217016Z"
    }
   },
   "outputs": [],
   "source": []
  },
  {
   "cell_type": "markdown",
   "id": "0c749367",
   "metadata": {},
   "source": [
    "#Enter the subject id and the block id below"
   ]
  },
  {
   "cell_type": "code",
   "execution_count": 4,
   "id": "6e5bfe5a",
   "metadata": {
    "ExecuteTime": {
     "end_time": "2022-01-31T11:52:22.970501Z",
     "start_time": "2022-01-31T11:52:22.958532Z"
    }
   },
   "outputs": [],
   "source": [
    "subject_id = \"S005\" #the subject id to check\n",
    "block_id = \"6\" # the block number to check\n",
    "#remember to uncomment the line below to scroll through all epochs \n",
    "\n",
    "colors = [\"blue\",\"green\", \"red\", \"cyan\", \"magenta\", \"yellow\", \"orange\", \"steelblue\"]\n",
    "color_map = {i+1:c for i,c in enumerate(colors)}\n",
    "#%matplotlib qt "
   ]
  },
  {
   "cell_type": "code",
   "execution_count": 5,
   "id": "0fd6e00b",
   "metadata": {
    "ExecuteTime": {
     "end_time": "2022-01-31T11:52:25.195545Z",
     "start_time": "2022-01-31T11:52:24.979126Z"
    }
   },
   "outputs": [
    {
     "name": "stdout",
     "output_type": "stream",
     "text": [
      "UNCLEAN SIGNAL\n"
     ]
    },
    {
     "ename": "NameError",
     "evalue": "name 'color_map' is not defined",
     "output_type": "error",
     "traceback": [
      "\u001b[1;31m---------------------------------------------------------------------------\u001b[0m",
      "\u001b[1;31mNameError\u001b[0m                                 Traceback (most recent call last)",
      "Input \u001b[1;32mIn [5]\u001b[0m, in \u001b[0;36m<module>\u001b[1;34m\u001b[0m\n\u001b[0;32m      5\u001b[0m uncleanepoch \u001b[38;5;241m=\u001b[39m mne\u001b[38;5;241m.\u001b[39mread_epochs(unclean, preload\u001b[38;5;241m=\u001b[39m\u001b[38;5;28;01mFalse\u001b[39;00m,verbose\u001b[38;5;241m=\u001b[39m\u001b[38;5;28;01mFalse\u001b[39;00m)\n\u001b[0;32m      6\u001b[0m \u001b[38;5;28mprint\u001b[39m(\u001b[38;5;124m\"\u001b[39m\u001b[38;5;124mUNCLEAN SIGNAL\u001b[39m\u001b[38;5;124m\"\u001b[39m)\n\u001b[0;32m      7\u001b[0m uncleanepoch\u001b[38;5;241m.\u001b[39mplot(n_epochs\u001b[38;5;241m=\u001b[39m\u001b[38;5;241m5\u001b[39m,\n\u001b[0;32m      8\u001b[0m             scalings\u001b[38;5;241m=\u001b[39m\u001b[38;5;28mdict\u001b[39m(eeg\u001b[38;5;241m=\u001b[39m\u001b[38;5;241m50\u001b[39m),\n\u001b[0;32m      9\u001b[0m             events\u001b[38;5;241m=\u001b[39muncleanepoch\u001b[38;5;241m.\u001b[39mevents,\n\u001b[0;32m     10\u001b[0m             event_id\u001b[38;5;241m=\u001b[39muncleanepoch\u001b[38;5;241m.\u001b[39mevent_id,\n\u001b[1;32m---> 11\u001b[0m             event_color\u001b[38;5;241m=\u001b[39m\u001b[43mcolor_map\u001b[49m)\n\u001b[0;32m     12\u001b[0m \u001b[38;5;28mprint\u001b[39m(\u001b[38;5;124m\"\u001b[39m\u001b[38;5;124mASR CLEANED\u001b[39m\u001b[38;5;124m\"\u001b[39m)\n\u001b[0;32m     13\u001b[0m cleanepoch\u001b[38;5;241m.\u001b[39mplot(n_epochs\u001b[38;5;241m=\u001b[39m\u001b[38;5;241m5\u001b[39m,\n\u001b[0;32m     14\u001b[0m             scalings\u001b[38;5;241m=\u001b[39m\u001b[38;5;28mdict\u001b[39m(eeg\u001b[38;5;241m=\u001b[39m\u001b[38;5;241m50\u001b[39m),\n\u001b[0;32m     15\u001b[0m             events\u001b[38;5;241m=\u001b[39mcleanepoch\u001b[38;5;241m.\u001b[39mevents,\n\u001b[0;32m     16\u001b[0m             event_id\u001b[38;5;241m=\u001b[39mcleanepoch\u001b[38;5;241m.\u001b[39mevent_id,\n\u001b[0;32m     17\u001b[0m             event_color\u001b[38;5;241m=\u001b[39mcolor_map)\n",
      "\u001b[1;31mNameError\u001b[0m: name 'color_map' is not defined"
     ]
    }
   ],
   "source": [
    "clean = f\"D:/projects/GTI_decoding/data/pilot/01_subjects_data/{subject_id}/eeg/preprocessed/02_epoched/block_{block_id}_epo.fif\"\n",
    "unclean = f\"D:/projects/GTI_decoding/data/pilot/01_subjects_data/{subject_id}/eeg/preprocessed/99_epochs_raw/block_{block_id}_epo.fif\"\n",
    "\n",
    "cleanepoch = mne.read_epochs(clean, preload=False,verbose=False)\n",
    "uncleanepoch = mne.read_epochs(unclean, preload=False,verbose=False)\n",
    "print(\"UNCLEAN SIGNAL\")\n",
    "uncleanepoch.plot(n_epochs=5,\n",
    "            scalings=dict(eeg=50),\n",
    "            events=uncleanepoch.events,\n",
    "            event_id=uncleanepoch.event_id,\n",
    "            event_color=color_map)\n",
    "print(\"ASR CLEANED\")\n",
    "cleanepoch.plot(n_epochs=5,\n",
    "            scalings=dict(eeg=50),\n",
    "            events=cleanepoch.events,\n",
    "            event_id=cleanepoch.event_id,\n",
    "            event_color=color_map)\n",
    "plt.show()\n"
   ]
  },
  {
   "cell_type": "code",
   "execution_count": null,
   "id": "ad3b861a",
   "metadata": {},
   "outputs": [],
   "source": []
  }
 ],
 "metadata": {
  "kernelspec": {
   "display_name": "Python 3 (ipykernel)",
   "language": "python",
   "name": "python3"
  },
  "language_info": {
   "codemirror_mode": {
    "name": "ipython",
    "version": 3
   },
   "file_extension": ".py",
   "mimetype": "text/x-python",
   "name": "python",
   "nbconvert_exporter": "python",
   "pygments_lexer": "ipython3",
   "version": "3.9.5"
  },
  "toc": {
   "base_numbering": 1,
   "nav_menu": {},
   "number_sections": true,
   "sideBar": true,
   "skip_h1_title": false,
   "title_cell": "Table of Contents",
   "title_sidebar": "Contents",
   "toc_cell": false,
   "toc_position": {},
   "toc_section_display": true,
   "toc_window_display": false
  },
  "varInspector": {
   "cols": {
    "lenName": 16,
    "lenType": 16,
    "lenVar": 40
   },
   "kernels_config": {
    "python": {
     "delete_cmd_postfix": "",
     "delete_cmd_prefix": "del ",
     "library": "var_list.py",
     "varRefreshCmd": "print(var_dic_list())"
    },
    "r": {
     "delete_cmd_postfix": ") ",
     "delete_cmd_prefix": "rm(",
     "library": "var_list.r",
     "varRefreshCmd": "cat(var_dic_list()) "
    }
   },
   "types_to_exclude": [
    "module",
    "function",
    "builtin_function_or_method",
    "instance",
    "_Feature"
   ],
   "window_display": false
  }
 },
 "nbformat": 4,
 "nbformat_minor": 5
}
